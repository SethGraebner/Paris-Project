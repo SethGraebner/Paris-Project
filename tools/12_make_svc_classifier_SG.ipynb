{
 "cells": [
  {
   "cell_type": "code",
   "execution_count": 1,
   "metadata": {},
   "outputs": [
    {
     "name": "stdout",
     "output_type": "stream",
     "text": [
      "37\n"
     ]
    }
   ],
   "source": [
    "import glob\n",
    "\n",
    "clean_files = sorted(glob.glob('/home/seth/Notes/HDW/test/test_xml/*.xml'))\n",
    "\n",
    "print(len(clean_files))"
   ]
  },
  {
   "cell_type": "markdown",
   "metadata": {},
   "source": [
    "Compile good and bad snippets from the training/testing corpus."
   ]
  },
  {
   "cell_type": "code",
   "execution_count": 2,
   "metadata": {},
   "outputs": [
    {
     "name": "stdout",
     "output_type": "stream",
     "text": [
      "/home/seth/Notes/HDW/test/test_xml/About_1861_bpt6k64392756_test.xml\n",
      "/home/seth/Notes/HDW/test/test_xml/Abrantès_1844_bpt6k6472523f_test.xml\n",
      "/home/seth/Notes/HDW/test/test_xml/Achard_1860_bpt6k113880g_test.xml\n",
      "/home/seth/Notes/HDW/test/test_xml/Amigues_1871_bpt6k54697084_test.xml\n",
      "/home/seth/Notes/HDW/test/test_xml/Asti_1843_bpt6k6471672z_test.xml\n",
      "/home/seth/Notes/HDW/test/test_xml/Auberive_1860_bpt6k6394066d_test.xml\n",
      "/home/seth/Notes/HDW/test/test_xml/Balleydier_1849_bpt6k105490w_test.xml\n",
      "/home/seth/Notes/HDW/test/test_xml/Balzac_1841_bpt6k1133819_test.xml\n",
      "/home/seth/Notes/HDW/test/test_xml/Bamboches_amoureuses_1840_bpt6k1164416j_test.xml\n",
      "/home/seth/Notes/HDW/test/test_xml/Banville_1866_bpt6k205836j_test.xml\n",
      "/home/seth/Notes/HDW/test/test_xml/Becker_1837_bpt6k105479m_test.xml\n",
      "/home/seth/Notes/HDW/test/test_xml/Bellet_1857_bpt6k6456840p_test.xml\n",
      "/home/seth/Notes/HDW/test/test_xml/Bonneville_1830_bpt6k5530903c_test.xml\n",
      "/home/seth/Notes/HDW/test/test_xml/Bréauté_1845_bpt6k64714083_test.xml\n",
      "/home/seth/Notes/HDW/test/test_xml/Brunet_1871_bpt6k5453254h_test.xml\n",
      "/home/seth/Notes/HDW/test/test_xml/Cavaignac_1848_bpt6k24241g_test.xml\n",
      "/home/seth/Notes/HDW/test/test_xml/Charpentier_1832_bpt6k1265557c_test.xml\n",
      "/home/seth/Notes/HDW/test/test_xml/Clark_1854_bpt6k5449597w_test.xml\n",
      "/home/seth/Notes/HDW/test/test_xml/Cousin_Avallon_1834_bpt6k64291819_test.xml\n",
      "/home/seth/Notes/HDW/test/test_xml/Cramouzaud_1855_bpt6k65447250_test.xml\n",
      "/home/seth/Notes/HDW/test/test_xml/Daly_1872_bpt6k9781154x_test.xml\n",
      "/home/seth/Notes/HDW/test/test_xml/Daly_1880_bpt6k14181964_test.xml\n",
      "/home/seth/Notes/HDW/test/test_xml/Diable_Paris_1857_bpt6k63940561_test.xml\n",
      "/home/seth/Notes/HDW/test/test_xml/Edme_1871_bpt6k6549886k_test.xml\n",
      "/home/seth/Notes/HDW/test/test_xml/Fournel_1865_bpt6k1018901_test.xml\n",
      "/home/seth/Notes/HDW/test/test_xml/Fournel_1867_bpt6k757298_test.xml\n",
      "/home/seth/Notes/HDW/test/test_xml/Fournier_1860_bpt6k6416873z_test.xml\n",
      "/home/seth/Notes/HDW/test/test_xml/François_1857_bpt6k6439790m_test.xml\n",
      "/home/seth/Notes/HDW/test/test_xml/Guide_1855_bpt6k134268q_test.xml\n",
      "/home/seth/Notes/HDW/test/test_xml/Guide_voyageur_1858_bpt6k35366j_test.xml\n",
      "/home/seth/Notes/HDW/test/test_xml/Hugo_1831_1_bpt6k6497134z_test.xml\n",
      "/home/seth/Notes/HDW/test/test_xml/Janin_1843_bpt6k102791c_test.xml\n",
      "/home/seth/Notes/HDW/test/test_xml/LaGournerie_1854_bpt6k6394057f_test.xml\n",
      "/home/seth/Notes/HDW/test/test_xml/Landremont_1848_bpt6k56646183_test.xml\n",
      "/home/seth/Notes/HDW/test/test_xml/Lefeuve_1854_bpt6k6438988x_test.xml\n",
      "/home/seth/Notes/HDW/test/test_xml/Roze_1853_bpt6k5551419c_test.xml\n",
      "/home/seth/Notes/HDW/test/test_xml/Virmaître_1871_bpt6k5448441v_test.xml\n",
      "\n",
      "len(good_text) 328 len(bad_text) 2290\n"
     ]
    }
   ],
   "source": [
    "import re\n",
    "from lxml import etree\n",
    "from nltk.corpus import stopwords\n",
    "#nltk stopwords.words('french') was letting through some inexplicable stuff, so we add a few words to it.\n",
    "sw = set(stopwords.words('french') + ['ici', 'là', 'elles', 'trop', 'tous', 'selon', 'presque', 'tant', \n",
    "                                      'fois', 'quant', 'ainsi', 'cette', 'doit', 'tout', 'bien', 'toute', \n",
    "                                      'si', 'autre', 'sans', 'comment', 'rien', 'là', 'peu', 'mêmes', 'si', \n",
    "                                      'plutôt', 'ceux', 'faire', 'moins', 'être', 'faudra', \n",
    "                                      'deux', 'a', 'paris', 'plus', 'où', 'saint', 'cette', 'toutes'])\n",
    "\n",
    "def is_number(w):\n",
    "\n",
    "    result = False\n",
    "    \n",
    "    try:\n",
    "        n = int(w)\n",
    "        result = True\n",
    "    except ValueError:\n",
    "        pass\n",
    "    \n",
    "    return result\n",
    "\n",
    "#function to eliminate the actual search terms (official names from place_index.csv, place_name field, + variants)\n",
    "def is_t_valid(t):\n",
    "    \n",
    "    terms_to_find= [r'Notre-\\s*Dame', 'Cité', 'Saint-\\s*Louis', 'Arènes', \n",
    "        r'Palais\\s*de\\s*Justice|Palais-\\s*de-\\s*Justice',\n",
    "        'Morgue', r'Sainte-\\s*Chapelle', 'Conciergerie', r'[Qq]uai\\s*de\\s*l\\'Horloge', r'Pont-\\s*Neuf', r'Cluny|Thermes',\n",
    "        r'Saint-\\s*Germain-\\s*des-\\s*Prés', 'Nesle', r'[Ss]aint-\\s*Sulpice', r'[Pp]alais\\s*du\\s* Luxembourg', \n",
    "        r'[Jj]ardin\\s*du\\s*Luxembourg', 'Observatoire', r'Panthéon|Sainte-\\s*Geneviève', r'[Eéeé]glise\\s*Saint-\\s*Étienne',\n",
    "        'Odéon', r'[Jj]ardin\\s*des\\s*Plantes', 'Gobelins', 'Auxerrois', 'Louvre', r'Carrousel|Doyenné', 'Tuileries', \n",
    "        r'Palais-\\s*Royal', r'Comédie-\\s*Française', 'Bourse', 'Innocents', 'Halles', r'Saint-\\s*Eustache', 'Temple',\n",
    "        r'[Tt]our\\s*Saint-\\s*Jacques', r'H[oôóòö]tel\\s*de\\s*Ville|Gr[eêéèë]ve', 'Rivoli', \n",
    "        r'Bastille|[Cc]olonne\\s*de\\s*Juillet', 'Tournelles', r'[Bb]oulevar[dt]\\s*de\\s*la\\s*Madeleine', 'Capucines',\n",
    "        r'[Bb]oulevard\\s*des\\s*Italiens', r'[Bb]oulevar[dt]\\s*Montmartre', r'[Bb]oulevar[dt]\\s*Poissonnière',\n",
    "        r'[Bb]oulevar[dt]\\s*Bonne-\\s*Nouvelle', r'[Bb]oulevar[dt]\\s*Saint-\\s*Denis', r'[Bb]oulevar[dt]\\s*Saint-\\s*Martin',\n",
    "        r'[Bb]oulevar[dt]\\s*du\\s*Temple|[Bb]oulevard\\s*du\\s*crime', r'[Bb]oulevar[dt]\\s*des\\s*Filles', 'Beaumarchais',\n",
    "        r'[Pp]orte\\s*Saint-Denis', r'[Cc]afé\\s*Tortoni', r'[Cc]afé\\s*Anglais', 'Maison-\\s*Dorée', \n",
    "        r'Notre-\\s*Dame-\\s*de-\\s*Lorette', 'Opéra-\\s*[Cc]omique', 'Panorama', 'Opéra', r'[Aa]venue\\s*\\s*de\\s*l’Op[eé]ra',\n",
    "        r'[Rr]ue\\s*de\\s*la\\s*Paix|[Rr]ue\\s*\\de\\s* Napoléon', 'Vivienne', r'[Rr]ue\\s*Saint-\\s*Jacques', \n",
    "        r'[Rr]ue\\s*Saint-\\s*Denis', r'[Ff]aubourg\\s*Saint-\\s*Honoré', r'[Rr]ue\\s*du\\s*[Ff]aubourg\\s*Saint-\\s*Antoine',\n",
    "        r'[Ff]aubourg\\s*Saint-\\s*Antoine', r'[Pp]lace\\s*des\\s*Vosges|Place\\s*Royale', r'Champs-\\s*Elysées', \n",
    "        r'Concorde|[Pp]lace\\s*Louis[.\\s*]XV|obélisque', r'[EÉ]toile|Triomphe', 'Vend[oôóòö]me', r'[Ll]a\\s*Madeleine', \n",
    "        'Caire', r'des\\s*Miracles', r'Quinze-\\s*Vingts', r'cimeti[eêéèë]re\\s*du\\s*P[eêéèë]re-\\s*Lachaise,' \n",
    "        r'[Bb]utte\\s*Montmartre', r'Montfaucon|[Vv]oierie', 'Chaumont', r'[Cc]h[aâáàä]teau\\s*de\\s*Vincennes', 'Invalides',\n",
    "        r'[Eéeé]cole\\s*Militaire|Champ-\\s*de-\\s*Mars', 'Grenelle']   \n",
    "    \n",
    "    result = False\n",
    "    \n",
    "    if t > '':\n",
    "        \n",
    "        was_matched = False\n",
    "        for term in terms_to_find:\n",
    "        \n",
    "            for match in re.finditer(term, t, flags=re.IGNORECASE):\n",
    "                was_matched = True\n",
    "                \n",
    "            if was_matched == True:\n",
    "                break\n",
    "        \n",
    "        if was_matched == False and is_number(t) == False:\n",
    "            result = True\n",
    "        \n",
    "    return result\n",
    "\n",
    "#a tokenization function that lower-cases, eliminates extra spaces, checks for \n",
    "#validity against list of search terms, and eliminates stopwords.\n",
    "def tokenize_text(text):\n",
    "    \n",
    "    clean_text = re.sub(r'[^\\s0123456789abcdefghijklmnopqrstuvwxyzàâäæçèéêëîïñôùûüÿœ̀]',\n",
    "                       ' ',\n",
    "                       text.lower())\n",
    "    clean_text = re.sub('\\s+', ' ', clean_text)\n",
    "    \n",
    "    return [t for t in clean_text.lower().split(' ') if is_t_valid(t) and t not in sw]\n",
    "\n",
    "# ----------------------------------------------------------------------------------------\n",
    "\n",
    "#print(sorted(sw))  #diplays the list of stopwords\n",
    "\n",
    "good_text = []\n",
    "bad_text = []\n",
    "\n",
    "for a in clean_files:\n",
    "    \n",
    "    print(a)     #print file names to see progress\n",
    "    \n",
    "    tree = etree.parse(a)\n",
    "    \n",
    "    for node in tree.xpath('//snippet'):\n",
    "        if node.get('quality') != None and node.get('quality') == 'good':\n",
    "            good_text.append(tokenize_text(node.text))  #if marked \"quality=good,\" tokenize and add to [good_text]\n",
    "        elif node.get('confirmed') != None and node.get('confirmed') == 'yes':\n",
    "            good_text.append(tokenize_text(node.text)) #if marked \"yes,\" do the same\n",
    "        elif node.get('classifier_result') != None and node.get('classifier_result') == 'good':\n",
    "            pass  #if marked \"classifier_result=good,\" do nothing\n",
    "        else:\n",
    "            bad_text.append(tokenize_text(node.text))\n",
    "    \n",
    "print() #just prints a blank line?\n",
    "print('len(good_text)', len(good_text), #say how many good and bad snippets are in training/testing corpus\n",
    "      'len(bad_text)', len(bad_text))"
   ]
  },
  {
   "cell_type": "code",
   "execution_count": 3,
   "metadata": {
    "scrolled": false
   },
   "outputs": [
    {
     "name": "stdout",
     "output_type": "stream",
     "text": [
      "\t n_try 0\n",
      "SVC score 0.9430863254392666 488.7834448814392\n",
      "\n",
      "classifier saved!\n",
      "\n",
      "dictionary saved!\n"
     ]
    }
   ],
   "source": [
    "import random, pickle\n",
    "from gensim import corpora, matutils\n",
    "import time\n",
    "from sklearn.naive_bayes import *\n",
    "from sklearn import tree, svm\n",
    "from sklearn.linear_model import *\n",
    "from sklearn.ensemble import *\n",
    "    \n",
    "def report_results(testing_labels, predicted, n_try, classifier):\n",
    "    \n",
    "    testing_counts = {}\n",
    "    for l in testing_labels:\n",
    "        if l not in testing_counts:\n",
    "            testing_counts[l] = 0\n",
    "        testing_counts[l] += 1\n",
    "    \n",
    "    results = {}\n",
    "\n",
    "    for a in range(0, len(testing_labels)):\n",
    "        k = testing_labels[a] + ' ' + predicted[a]\n",
    "        if k not in results:\n",
    "            results[k] = 0\n",
    "        results[k] += 1\n",
    "    \n",
    "    final_results = {'n_try': n_try, 'classifier': classifier}\n",
    "    \n",
    "    #print()\n",
    "    for k, v in results.items():\n",
    "    #    print('\\t', k, v, (v / testing_counts[k.split(' ')[0]]))\n",
    "        final_results[k + ' n'] = v\n",
    "        final_results[k + ' pct'] = (v / testing_counts[k.split(' ')[0]])\n",
    "    #print()\n",
    "    \n",
    "    return final_results\n",
    "\n",
    "\n",
    "# -----------------------------------------------------------------------------\n",
    "\n",
    "all_final_results = []\n",
    "\n",
    "for n_try in range(0, 1):\n",
    "    \n",
    "    print('\\t', 'n_try', n_try)\n",
    "\n",
    "    # -----------------------------------------------------------------------------\n",
    "\n",
    "    random.shuffle(good_text)\n",
    "    random.shuffle(bad_text)\n",
    "\n",
    "    training_data = [['good', text] for text in good_text] + \\\n",
    "                    [['bad', text] for text in bad_text]\n",
    "\n",
    "    testing_data = [['good', text] for text in good_text] + \\\n",
    "                    [['bad', text] for text in bad_text]\n",
    "\n",
    "    # -----------------------------------------------------------------------------\n",
    "\n",
    "    dictionary = corpora.Dictionary([text[1] for text in training_data] + \\\n",
    "                                    [text[1] for text in testing_data])\n",
    "\n",
    "    training_labels = [text[0] for text in training_data]\n",
    "    training_corpus = [dictionary.doc2bow(text[1]) for text in training_data]\n",
    "\n",
    "    testing_labels = [text[0] for text in testing_data]\n",
    "    testing_corpus = [dictionary.doc2bow(text[1]) for text in testing_data]\n",
    "\n",
    "    training_matrix = matutils.corpus2dense(training_corpus, len(dictionary))\n",
    "    training_matrix = training_matrix.T\n",
    "\n",
    "    testing_matrix = matutils.corpus2dense(testing_corpus, len(dictionary))\n",
    "    testing_matrix = testing_matrix.T\n",
    "\n",
    "    # -----------------------------------------------------------------------\n",
    "    \n",
    "    start_time = time.time()\n",
    "\n",
    "    clf = svm.SVC()\n",
    "    clf = clf.fit(training_matrix, training_labels)\n",
    "\n",
    "    predicted = clf.predict(testing_matrix)\n",
    "\n",
    "    score = clf.score(testing_matrix, testing_labels)\n",
    "\n",
    "    print('SVC', 'score', score, (time.time() - start_time))\n",
    "\n",
    "    all_final_results.append(report_results(testing_labels, predicted, n_try, 'SVC'))\n",
    "\n",
    "    # -----------------------------------------------------------------------\n",
    "\n",
    "    filename = 'SVC.saved_classifier.sav'\n",
    "    pickle.dump(clf, open(filename, 'wb'))\n",
    "\n",
    "    print()\n",
    "    print('classifier saved!')\n",
    "\n",
    "    dictionary.save('SVC.classifier_dictionary.dict') \n",
    "\n",
    "    print()\n",
    "    print('dictionary saved!')\n"
   ]
  },
  {
   "cell_type": "code",
   "execution_count": 4,
   "metadata": {},
   "outputs": [
    {
     "name": "stdout",
     "output_type": "stream",
     "text": [
      "1\n",
      "{'n_try': 0, 'classifier': 'SVC', 'good good n': 180, 'good good pct': 0.5487804878048781, 'good bad n': 148, 'good bad pct': 0.45121951219512196, 'bad bad n': 2289, 'bad bad pct': 0.9995633187772925, 'bad good n': 1, 'bad good pct': 0.0004366812227074236}\n"
     ]
    }
   ],
   "source": [
    "print(len(all_final_results))\n",
    "print(all_final_results[0])\n",
    "\n",
    "for a in range(0, len(all_final_results)):\n",
    "    if 'bad good n' not in all_final_results[a]:\n",
    "        all_final_results[a]['bad good n'] = 0\n",
    "        all_final_results[a]['bad good pct'] = 0.0"
   ]
  },
  {
   "cell_type": "code",
   "execution_count": 6,
   "metadata": {},
   "outputs": [
    {
     "name": "stdout",
     "output_type": "stream",
     "text": [
      "0.21.3\n"
     ]
    }
   ],
   "source": [
    "import sklearn\n",
    "print(sklearn.__version__)"
   ]
  },
  {
   "cell_type": "code",
   "execution_count": 5,
   "metadata": {},
   "outputs": [
    {
     "name": "stdout",
     "output_type": "stream",
     "text": [
      "ok\n"
     ]
    }
   ],
   "source": [
    "import pandas as pd\n",
    "\n",
    "df = pd.DataFrame(all_final_results)\n",
    "df.to_csv('23_classifier_comparison.csv', index=False)\n",
    "\n",
    "print('ok')"
   ]
  },
  {
   "cell_type": "code",
   "execution_count": 6,
   "metadata": {
    "scrolled": false
   },
   "outputs": [
    {
     "name": "stdout",
     "output_type": "stream",
     "text": [
      "SVC mean bad good n (x) 1\n",
      "SVC mean good good n (y) 180\n",
      "SVC good good / bad good n ratio 180.0\n"
     ]
    },
    {
     "data": {
      "image/png": "[encoded data removed]",
      "text/plain": [
       "<Figure size 432x288 with 1 Axes>"
      ]
     },
     "metadata": {
      "needs_background": "light"
     },
     "output_type": "display_data"
    }
   ],
   "source": [
    "%matplotlib inline\n",
    "import statistics\n",
    "import matplotlib.pyplot as plt\n",
    "\n",
    "classifier_names = []\n",
    "for r in all_final_results:\n",
    "    classifier_names.append(r['classifier'])\n",
    "\n",
    "classifier_names = sorted(list(set(classifier_names)))\n",
    "\n",
    "mean_data = []\n",
    "\n",
    "for classifier_name in classifier_names:\n",
    "    \n",
    "    x = []\n",
    "    y = []\n",
    "    c = []\n",
    "    \n",
    "    match_x = []\n",
    "    match_y = []\n",
    "    \n",
    "    for r in all_final_results:\n",
    "        \n",
    "        if r['classifier'] == classifier_name:\n",
    "            pass\n",
    "        else:\n",
    "            try:\n",
    "                x.append(r['bad good n'])\n",
    "            except KeyError:\n",
    "                x.append(0)\n",
    "            try:\n",
    "                y.append(r['good good n'])\n",
    "            except KeyError:\n",
    "                y.append(0)\n",
    "            c.append('#A7C7E7')\n",
    "    \n",
    "    for r in all_final_results:\n",
    "        \n",
    "        if r['classifier'] == classifier_name:\n",
    "            try:\n",
    "                x.append(r['bad good n'])\n",
    "                match_x.append(r['bad good n'])\n",
    "            except KeyError:\n",
    "                x.append(0)\n",
    "                match_x.append(0)\n",
    "            try:\n",
    "                y.append(r['good good n'])\n",
    "                match_y.append(r['good good n'])\n",
    "            except:\n",
    "                y.append(0)\n",
    "                match_y.append(0)\n",
    "            c.append('#ff6961')\n",
    "        else:\n",
    "            pass\n",
    "        \n",
    "    print(classifier_name, 'mean bad good n (x)', statistics.mean(match_x))\n",
    "    print(classifier_name, 'mean good good n (y)', statistics.mean(match_y))\n",
    "    print(classifier_name, 'good good / bad good n ratio', (statistics.mean(match_y) / statistics.mean(match_x)))\n",
    "        \n",
    "    mean_data.append({'run': '06', 'classifier_name': classifier_name, \n",
    "                          'false positive n': statistics.mean(match_x), \n",
    "                          'true positive n': statistics.mean(match_y),\n",
    "                          'n true positive to false positive': (statistics.mean(match_y) / statistics.mean(match_x))})\n",
    "        \n",
    "        \n",
    "    plt.scatter(x, y, c=c, alpha=0.5)\n",
    "    plt.title(classifier_name)\n",
    "    plt.xlabel('bad good n')\n",
    "    plt.ylabel('good good n')\n",
    "    \n",
    "    plt.show()\n",
    "    "
   ]
  },
  {
   "cell_type": "code",
   "execution_count": 7,
   "metadata": {},
   "outputs": [
    {
     "name": "stdout",
     "output_type": "stream",
     "text": [
      "ok\n"
     ]
    }
   ],
   "source": [
    "import re, json\n",
    "\n",
    "#print(re.sub('\\}, ', '},\\n', str(mean_data)) + ' \\\\ +')\n",
    "\n",
    "f = open('12_mean_data.json', 'w', encoding='utf-8')\n",
    "f.write(json.dumps(mean_data, indent=4))\n",
    "f.close()\n",
    "\n",
    "print('ok')"
   ]
  },
  {
   "cell_type": "code",
   "execution_count": null,
   "metadata": {},
   "outputs": [],
   "source": []
  }
 ],
 "metadata": {
  "kernelspec": {
   "display_name": "Python 3",
   "language": "python",
   "name": "python3"
  },
  "language_info": {
   "codemirror_mode": {
    "name": "ipython",
    "version": 3
   },
   "file_extension": ".py",
   "mimetype": "text/x-python",
   "name": "python",
   "nbconvert_exporter": "python",
   "pygments_lexer": "ipython3",
   "version": "3.7.4"
  }
 },
 "nbformat": 4,
 "nbformat_minor": 4
}

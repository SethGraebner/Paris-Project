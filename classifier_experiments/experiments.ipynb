{
 "cells": [
  {
   "attachments": {},
   "cell_type": "markdown",
   "metadata": {},
   "source": [
    "Summary:\n",
    "\n",
    "Main experimentation notebook. Code modularized to select a dataloader and vectorizer, and then to test various models with cross validation. Additional results / statistics generated once a classifier is selected on."
   ]
  },
  {
   "cell_type": "code",
   "execution_count": 1,
   "metadata": {},
   "outputs": [],
   "source": [
    "from DataLoaders import AbstractDataLoader, OriginalDataLoader, StemDataLoader, NoSWLoader, GPTCleanedLoader, MatchLoader\n",
    "from Vectorizers import AbstractVectorizer, BOWVectorizer, W2VVectorizer, PreW2V, FastTextVectorizer, AdaVectorizer\n",
    "from type_utils import ProcessedData, MatchedData, UnprocessedData\n",
    "from sklearn.model_selection import train_test_split\n",
    "from typing import List\n",
    "import numpy as np"
   ]
  },
  {
   "attachments": {},
   "cell_type": "markdown",
   "metadata": {},
   "source": [
    "Load and vectorize data:"
   ]
  },
  {
   "cell_type": "code",
   "execution_count": 3,
   "metadata": {},
   "outputs": [
    {
     "name": "stderr",
     "output_type": "stream",
     "text": [
      "  3%|▎         | 1/37 [00:00<00:05,  6.62it/s]"
     ]
    },
    {
     "name": "stdout",
     "output_type": "stream",
     "text": [
      "loading from json\n",
      "loading from json\n"
     ]
    },
    {
     "name": "stderr",
     "output_type": "stream",
     "text": [
      "  5%|▌         | 2/37 [00:00<00:13,  2.66it/s]"
     ]
    },
    {
     "name": "stdout",
     "output_type": "stream",
     "text": [
      "loading from json\n"
     ]
    },
    {
     "name": "stderr",
     "output_type": "stream",
     "text": [
      "  8%|▊         | 3/37 [00:01<00:17,  1.93it/s]"
     ]
    },
    {
     "name": "stdout",
     "output_type": "stream",
     "text": [
      "incoming msg [{'role': 'system', 'content': \"Votre travail consiste à transformer cette numérisation OCR défectueuse en une numérisation rectifiée, en corrigeant l'espacement, le formatage et la grammaire et la syntaxe appropriées en français si nécessaire. Renvoie uniquement le texte corrigé, sans nouvelle ligne supplémentaire ni espace blanc divers. N'ajoutez PAS de contenu supplémentaire à votre réponse, sinon vous serez pénalisé.\"}, {'role': 'user', 'content': \"st ici en même temps excès de faiblesse. — 42 — Ces quelques lignes que nous venons d'écrire, c’est l’histoire politique de Paris capitale. En l’état de nos institutions et de nos habitudes, les individualités actives ou brouillonnes que sollicite l'appétit du pouvoir ou le désir de se produire, ne trouvant point, dans la vie politique dela province, un aliment qui ieur suffise, se ruent de toutes parts vers Paris. Là, elles se bousculent et s'étouffent sous l’âpre aiguillon d'une concurrence effrénée. Accueillies, mais perdues, dans une immense population où pullulent les éléments de trouble et de désordre, elles sont surexcitées par la chaleur du milieu social et par la terrible séduction qu'exercent les trop nombreux exemples de fortunes politiques faites en un jour parles voies de l'émeute ou du scandale. De ces contacts violents et de ces facilités malsaines naissent périodiquement les bouleversements politiques. Tous les quinze ou dix-huit ans, la tête de pont de la place de la Concorde est occupée et enlevée par quelques milliers d'hommes que mènent ou poussent une centaine d’intrigants ou de rhéteurs. «La Chambre cst envahie » selon la tradition sacramentelle et le gouvernement est changé, au nom du peuple français, par une poignée de Parisiens qui sont presque tous venus de la province. Ce phénomène, tant de fois répété, implique et emporte avec lui la nécessité politique de décapitaliser Paris — quant à sa faculté d'initiative révolutionnaire\\n— et de supprimer ainsi cette cause permanente de spasmes intermittents, que Fourier eût appelée « le centralisme passionne] ». Je dirai tout à l'heure comment doit s'entendre et s'opérer la décapitalisation de Paris. Mais il est bien\\névident que la mesure, fût-elle appliquée dans toute sa rigueur, serait par elle-même fort incomplète et de médiocre effet, si l'on devait se borner à établir sur un autre point la capitale sans rien changer aux ins- — 13 — titutions. Ce ne serait là qu’une ressource dilatoire, et l'on se retronverait, un peu plus tôt, un peu plus tard, en présence des mêmes embarras et des mêmes périls si, en même temps qu'on les écarte, on ne se préoccupait d'en prévenir le retour. Ge qui revient à dire que la question de la capitale est étroitement liée à la reconstitution de la France provinciale, ou plutôt qu'elle n'est que l’un des termes de cette grande question. En développant et en organisant la vie locale, on fournira un théâtre aux esprits actifs, ambitieux ou agités. Ceux qui auront de vrais talents parviendront avec moins d'effort qu'aujourd'hui à se faire connaître et à prendre un rôle. Ceux qui n'auraient que de mauvaises passions seront plus aisément jugés et plus rapi- dement discrédités de la vaste mêlée part, Paris, n'étant n'exercera plus sur qu'ils ne peuvent l'être au milieu d'une grande capitale. Et, d'autre plus une capitale révolutionnaire, eux la même attraction : il faudra qu’ils trouvent à se classer en province, ou bien la province, judiciairement ou par d’autre\"}]\n"
     ]
    },
    {
     "name": "stderr",
     "output_type": "stream",
     "text": [
      "  8%|▊         | 3/37 [00:03<00:41,  1.23s/it]"
     ]
    },
    {
     "name": "stdout",
     "output_type": "stream",
     "text": [
      "Unexpected exception formatting exception. Falling back to standard exception\n"
     ]
    },
    {
     "name": "stderr",
     "output_type": "stream",
     "text": [
      "\n",
      "Traceback (most recent call last):\n",
      "  File \"/Users/wsepesi/opt/miniconda3/envs/fr/lib/python3.10/site-packages/IPython/core/interactiveshell.py\", line 3442, in run_code\n",
      "    exec(code_obj, self.user_global_ns, self.user_ns)\n",
      "  File \"/var/folders/jb/ln4v7_w14590ry1wmyzpmdg00000gn/T/ipykernel_91876/3351581462.py\", line 12, in <module>\n",
      "    data: ProcessedData = dataloader.load_and_preprocess_data()\n",
      "  File \"/Users/wsepesi/Documents/Programs/Paris-Project/classifier_experiments/DataLoaders.py\", line 306, in load_and_preprocess_data\n",
      "  File \"/Users/wsepesi/Documents/Programs/Paris-Project/classifier_experiments/DataLoaders.py\", line 363, in _call_gpt\n",
      "    msgs = [\n",
      "  File \"/Users/wsepesi/opt/miniconda3/envs/fr/lib/python3.10/site-packages/openai/api_resources/chat_completion.py\", line 25, in create\n",
      "    return super().create(*args, **kwargs)\n",
      "  File \"/Users/wsepesi/opt/miniconda3/envs/fr/lib/python3.10/site-packages/openai/api_resources/abstract/engine_api_resource.py\", line 153, in create\n",
      "    response, _, api_key = requestor.request(\n",
      "  File \"/Users/wsepesi/opt/miniconda3/envs/fr/lib/python3.10/site-packages/openai/api_requestor.py\", line 216, in request\n",
      "    result = self.request_raw(\n",
      "  File \"/Users/wsepesi/opt/miniconda3/envs/fr/lib/python3.10/site-packages/openai/api_requestor.py\", line 516, in request_raw\n",
      "    result = _thread_context.session.request(\n",
      "  File \"/Users/wsepesi/opt/miniconda3/envs/fr/lib/python3.10/site-packages/requests/sessions.py\", line 587, in request\n",
      "    resp = self.send(prep, **send_kwargs)\n",
      "  File \"/Users/wsepesi/opt/miniconda3/envs/fr/lib/python3.10/site-packages/requests/sessions.py\", line 701, in send\n",
      "    r = adapter.send(request, **kwargs)\n",
      "  File \"/Users/wsepesi/opt/miniconda3/envs/fr/lib/python3.10/site-packages/requests/adapters.py\", line 489, in send\n",
      "    resp = conn.urlopen(\n",
      "  File \"/Users/wsepesi/opt/miniconda3/envs/fr/lib/python3.10/site-packages/urllib3/connectionpool.py\", line 703, in urlopen\n",
      "    httplib_response = self._make_request(\n",
      "  File \"/Users/wsepesi/opt/miniconda3/envs/fr/lib/python3.10/site-packages/urllib3/connectionpool.py\", line 449, in _make_request\n",
      "    six.raise_from(e, None)\n",
      "  File \"<string>\", line 3, in raise_from\n",
      "  File \"/Users/wsepesi/opt/miniconda3/envs/fr/lib/python3.10/site-packages/urllib3/connectionpool.py\", line 444, in _make_request\n",
      "    httplib_response = conn.getresponse()\n",
      "  File \"/Users/wsepesi/opt/miniconda3/envs/fr/lib/python3.10/http/client.py\", line 1374, in getresponse\n",
      "    response.begin()\n",
      "  File \"/Users/wsepesi/opt/miniconda3/envs/fr/lib/python3.10/http/client.py\", line 318, in begin\n",
      "    version, status, reason = self._read_status()\n",
      "  File \"/Users/wsepesi/opt/miniconda3/envs/fr/lib/python3.10/http/client.py\", line 279, in _read_status\n",
      "    line = str(self.fp.readline(_MAXLINE + 1), \"iso-8859-1\")\n",
      "  File \"/Users/wsepesi/opt/miniconda3/envs/fr/lib/python3.10/socket.py\", line 705, in readinto\n",
      "    return self._sock.recv_into(b)\n",
      "  File \"/Users/wsepesi/opt/miniconda3/envs/fr/lib/python3.10/ssl.py\", line 1274, in recv_into\n",
      "    return self.read(nbytes, buffer)\n",
      "  File \"/Users/wsepesi/opt/miniconda3/envs/fr/lib/python3.10/ssl.py\", line 1130, in read\n",
      "    return self._sslobj.read(len, buffer)\n",
      "KeyboardInterrupt\n",
      "\n",
      "During handling of the above exception, another exception occurred:\n",
      "\n",
      "Traceback (most recent call last):\n",
      "  File \"/Users/wsepesi/opt/miniconda3/envs/fr/lib/python3.10/site-packages/IPython/core/interactiveshell.py\", line 2057, in showtraceback\n",
      "    stb = self.InteractiveTB.structured_traceback(\n",
      "  File \"/Users/wsepesi/opt/miniconda3/envs/fr/lib/python3.10/site-packages/IPython/core/ultratb.py\", line 1118, in structured_traceback\n",
      "    return FormattedTB.structured_traceback(\n",
      "  File \"/Users/wsepesi/opt/miniconda3/envs/fr/lib/python3.10/site-packages/IPython/core/ultratb.py\", line 1012, in structured_traceback\n",
      "    return VerboseTB.structured_traceback(\n",
      "  File \"/Users/wsepesi/opt/miniconda3/envs/fr/lib/python3.10/site-packages/IPython/core/ultratb.py\", line 865, in structured_traceback\n",
      "    formatted_exception = self.format_exception_as_a_whole(etype, evalue, etb, number_of_lines_of_context,\n",
      "  File \"/Users/wsepesi/opt/miniconda3/envs/fr/lib/python3.10/site-packages/IPython/core/ultratb.py\", line 818, in format_exception_as_a_whole\n",
      "    frames.append(self.format_record(r))\n",
      "  File \"/Users/wsepesi/opt/miniconda3/envs/fr/lib/python3.10/site-packages/IPython/core/ultratb.py\", line 736, in format_record\n",
      "    result += ''.join(_format_traceback_lines(frame_info.lines, Colors, self.has_colors, lvals))\n",
      "  File \"/Users/wsepesi/opt/miniconda3/envs/fr/lib/python3.10/site-packages/stack_data/utils.py\", line 144, in cached_property_wrapper\n",
      "    value = obj.__dict__[self.func.__name__] = self.func(obj)\n",
      "  File \"/Users/wsepesi/opt/miniconda3/envs/fr/lib/python3.10/site-packages/stack_data/core.py\", line 734, in lines\n",
      "    pieces = self.included_pieces\n",
      "  File \"/Users/wsepesi/opt/miniconda3/envs/fr/lib/python3.10/site-packages/stack_data/utils.py\", line 144, in cached_property_wrapper\n",
      "    value = obj.__dict__[self.func.__name__] = self.func(obj)\n",
      "  File \"/Users/wsepesi/opt/miniconda3/envs/fr/lib/python3.10/site-packages/stack_data/core.py\", line 681, in included_pieces\n",
      "    pos = scope_pieces.index(self.executing_piece)\n",
      "  File \"/Users/wsepesi/opt/miniconda3/envs/fr/lib/python3.10/site-packages/stack_data/utils.py\", line 144, in cached_property_wrapper\n",
      "    value = obj.__dict__[self.func.__name__] = self.func(obj)\n",
      "  File \"/Users/wsepesi/opt/miniconda3/envs/fr/lib/python3.10/site-packages/stack_data/core.py\", line 660, in executing_piece\n",
      "    return only(\n",
      "  File \"/Users/wsepesi/opt/miniconda3/envs/fr/lib/python3.10/site-packages/executing/executing.py\", line 190, in only\n",
      "    raise NotOneValueFound('Expected one value, found 0')\n",
      "executing.executing.NotOneValueFound: Expected one value, found 0\n"
     ]
    }
   ],
   "source": [
    "np.random.seed(17)\n",
    "\n",
    "dataloaders: List[AbstractDataLoader] = [\n",
    "    OriginalDataLoader(data_path='../william_data/test_xml/'),\n",
    "    StemDataLoader(data_path='../william_data/test_xml/'),\n",
    "    NoSWLoader(data_path='../william_data/test_xml/'), # loader without stopwords\n",
    "    GPTCleanedLoader(data_path='../william_data/test_xml/', cleaned_path='../william_data/cleanedjson/'),\n",
    "    MatchLoader(data_path='../william_data/test_xml/')\n",
    "]\n",
    "\n",
    "dataloader = dataloaders[3] # GPT\n",
    "data: ProcessedData = dataloader.load_and_preprocess_data()"
   ]
  },
  {
   "cell_type": "code",
   "execution_count": 44,
   "metadata": {},
   "outputs": [
    {
     "name": "stdout",
     "output_type": "stream",
     "text": [
      "328\n",
      "2290\n"
     ]
    }
   ],
   "source": [
    "print(len(data['good']))\n",
    "print(len(data['bad']))"
   ]
  },
  {
   "cell_type": "code",
   "execution_count": 47,
   "metadata": {},
   "outputs": [
    {
     "name": "stdout",
     "output_type": "stream",
     "text": [
      "(2618, 300)\n",
      "(2618,)\n"
     ]
    }
   ],
   "source": [
    "vectorizers: List[AbstractVectorizer] = [\n",
    "    BOWVectorizer(),\n",
    "    W2VVectorizer(),\n",
    "    PreW2V('frWac_non_lem_no_postag_no_phrase_200_skip_cut100'),\n",
    "    PreW2V('fr_w2v_web_w5', always_reload=True, strategy=0) # private vectorizer, fewest words out of cache atm\n",
    "    FastTextVectorizer(\"cc.fr.300\", always_reload=True, strategy=0)\n",
    "    AdaVectorizer()\n",
    "]\n",
    "\n",
    "vectorizer = vectorizers[-1] # ada\n",
    "X, y = vectorizer.vectorize(data) # TODO: make sure you're using the same data the whole time, this doesn't check if the underlying data input is different when loading from the local cache. This includes the different preprocessing methods.\n",
    "print(X.shape)\n",
    "print(y.shape)"
   ]
  },
  {
   "attachments": {},
   "cell_type": "markdown",
   "metadata": {},
   "source": [
    "Data Splitting:"
   ]
  },
  {
   "cell_type": "code",
   "execution_count": 48,
   "metadata": {},
   "outputs": [],
   "source": [
    "X_tr, X_te, y_tr, y_te = train_test_split(X, y, test_size=0.2, stratify=y, random_state=17)"
   ]
  },
  {
   "attachments": {},
   "cell_type": "markdown",
   "metadata": {},
   "source": [
    "Data Preprocessing:"
   ]
  },
  {
   "cell_type": "code",
   "execution_count": 49,
   "metadata": {},
   "outputs": [],
   "source": [
    "from sklearn.model_selection import StratifiedKFold, cross_validate, cross_val_score, GridSearchCV\n",
    "from sklearn.metrics import accuracy_score, precision_score, recall_score, f1_score, make_scorer\n",
    "from sklearn.preprocessing import StandardScaler\n",
    "\n",
    "scaler = StandardScaler()\n",
    "X_tr_sc = scaler.fit_transform(X_tr)\n",
    "X_te_sc = scaler.transform(X_te)"
   ]
  },
  {
   "attachments": {},
   "cell_type": "markdown",
   "metadata": {},
   "source": [
    "Model Set-Up"
   ]
  },
  {
   "cell_type": "code",
   "execution_count": 50,
   "metadata": {},
   "outputs": [],
   "source": [
    "from sklearn.linear_model import LogisticRegression, SGDClassifier\n",
    "from sklearn.svm import SVC\n",
    "from sklearn.naive_bayes import GaussianNB\n",
    "from CustomModels import AlwaysBad\n",
    "from xgboost import XGBClassifier\n",
    "\n",
    "models = {\n",
    "    'Bad': AlwaysBad(),\n",
    "    'LR': LogisticRegression(),\n",
    "    'SVM': SVC(),\n",
    "    'SGD-SVM': SGDClassifier(),\n",
    "    'NB': GaussianNB(),\n",
    "    'xgboost': XGBClassifier(colsample_bytree=0.6, subsample=0.7, n_estimators=100, max_depth=3, learning_rate=0.1),\n",
    "    'xgboost-best': XGBClassifier(colsample_bytree=0.8, learning_rate=0.2, max_depth=4, n_estimators=300, subsample=0.8),\n",
    "    'xgboost-nooverfit': XGBClassifier(colsample_bytree=0.4, learning_rate=0.2, max_depth=2, n_estimators=50, subsample=0.5, gamma=0.7, min_child_weight=1, eta=0.05, reg_alpha=0.1, reg_lambda=0.1),\n",
    "}   "
   ]
  },
  {
   "attachments": {},
   "cell_type": "markdown",
   "metadata": {},
   "source": [
    "Model Experimentation"
   ]
  },
  {
   "cell_type": "code",
   "execution_count": 51,
   "metadata": {},
   "outputs": [],
   "source": [
    "# suppress warnings\n",
    "import warnings\n",
    "warnings.filterwarnings('ignore')\n",
    "\n",
    "# suppress sklearn warnings\n",
    "def warn(*args, **kwargs):\n",
    "    pass\n",
    "import warnings\n",
    "warnings.warn = warn"
   ]
  },
  {
   "cell_type": "code",
   "execution_count": 52,
   "metadata": {},
   "outputs": [
    {
     "name": "stdout",
     "output_type": "stream",
     "text": [
      "Cross validating Bad...\n",
      "Accuracy: 0.8749100022784233\n",
      "Precision: 0.8749100022784233\n",
      "Recall: 1.0\n",
      "F1: 0.933055758618998\n",
      "\n",
      "Cross validating LR...\n",
      "Accuracy: 0.8748826611984507\n",
      "Precision: 0.8748826611984507\n",
      "Recall: 1.0\n",
      "F1: 0.9332656540742388\n",
      "\n",
      "Cross validating LR (scaled)...\n",
      "Accuracy: 0.894932786511734\n",
      "Precision: 0.9274725426292412\n",
      "Recall: 0.9547012354478499\n",
      "F1: 0.9408172261893031\n",
      "\n",
      "Cross validating SVM...\n",
      "Accuracy: 0.8744064707222602\n",
      "Precision: 0.8748234221918432\n",
      "Recall: 0.9994565217391305\n",
      "F1: 0.9329944098381787\n",
      "\n",
      "Cross validating SVM (scaled)...\n",
      "Accuracy: 0.9083162451583504\n",
      "Precision: 0.9126088806547396\n",
      "Recall: 0.990175813732478\n",
      "F1: 0.9497668520254301\n",
      "\n",
      "Cross validating SGD-SVM...\n",
      "Accuracy: 0.8748826611984507\n",
      "Precision: 0.8748826611984507\n",
      "Recall: 1.0\n",
      "F1: 0.9332656540742388\n",
      "\n",
      "Cross validating SGD-SVM (scaled)...\n",
      "Accuracy: 0.8619685577580313\n",
      "Precision: 0.923870303250691\n",
      "Recall: 0.9181426704680448\n",
      "F1: 0.9207955610049432\n",
      "\n",
      "Cross validating NB...\n",
      "Accuracy: 0.5018819776714513\n",
      "Precision: 0.9767313843749175\n",
      "Recall: 0.44154490377761935\n",
      "F1: 0.606607278179706\n",
      "\n",
      "Cross validating xgboost...\n",
      "Accuracy: 0.9126224652540442\n",
      "Precision: 0.9220024226905685\n",
      "Recall: 0.9836332858161084\n",
      "F1: 0.9517204724860099\n",
      "\n",
      "Cross validating xgboost-best...\n",
      "Accuracy: 0.9092754613807245\n",
      "Precision: 0.9258036987458217\n",
      "Recall: 0.974907935376574\n",
      "F1: 0.9495331228072734\n",
      "\n",
      "Cross validating xgboost-nooverfit...\n",
      "Accuracy: 0.9002005012531328\n",
      "Precision: 0.9140107897983786\n",
      "Recall: 0.9781688049417914\n",
      "F1: 0.9449301771519311\n",
      "\n",
      "Best model F1: xgboost\n",
      "Best score F1: 0.9517204724860099\n",
      "Best model accuracy: xgboost\n",
      "Best score accuracy: 0.9126224652540442\n"
     ]
    }
   ],
   "source": [
    "# cross validate each model, with and without scaling, reporting accuracy, precision, recall, and f1\n",
    "best_model = None\n",
    "best_score = 0\n",
    "best_acc_model = None\n",
    "best_acc_score = 0\n",
    "for model_name, model in models.items():\n",
    "    print(f'Cross validating {model_name}...')\n",
    "    cv_results = cross_validate(model, X_tr, y_tr, cv=10, scoring=['accuracy', 'precision', 'recall', 'f1']) # automatically stratified\n",
    "    print(f'Accuracy: {np.mean(cv_results[\"test_accuracy\"])}')\n",
    "    print(f'Precision: {np.mean(cv_results[\"test_precision\"])}')\n",
    "    print(f'Recall: {np.mean(cv_results[\"test_recall\"])}')\n",
    "    print(f'F1: {np.mean(cv_results[\"test_f1\"])}')\n",
    "    print()\n",
    "\n",
    "    if np.mean(cv_results[\"test_f1\"]) > best_score:\n",
    "        best_model = model_name\n",
    "        best_score = np.mean(cv_results[\"test_f1\"])\n",
    "\n",
    "    if np.mean(cv_results[\"test_accuracy\"]) > best_acc_score:\n",
    "        best_acc_model = model_name\n",
    "        best_acc_score = np.mean(cv_results[\"test_accuracy\"])\n",
    "\n",
    "    if model_name in ['SVM', 'SGD-SVM', 'LR']:\n",
    "        model_name += ' (scaled)'\n",
    "        print(f'Cross validating {model_name}...')\n",
    "        cv_results = cross_validate(model, X_tr_sc, y_tr, cv=10, scoring=['accuracy', 'precision', 'recall', 'f1'])\n",
    "        print(f'Accuracy: {np.mean(cv_results[\"test_accuracy\"])}')\n",
    "        print(f'Precision: {np.mean(cv_results[\"test_precision\"])}')\n",
    "        print(f'Recall: {np.mean(cv_results[\"test_recall\"])}')\n",
    "        print(f'F1: {np.mean(cv_results[\"test_f1\"])}')\n",
    "        print()\n",
    "\n",
    "        if np.mean(cv_results[\"test_f1\"]) > best_score:\n",
    "            best_model = model_name\n",
    "            best_score = np.mean(cv_results[\"test_f1\"])\n",
    "\n",
    "        if np.mean(cv_results[\"test_accuracy\"]) > best_acc_score:\n",
    "            best_acc_model = model_name\n",
    "            best_acc_score = np.mean(cv_results[\"test_accuracy\"])\n",
    "\n",
    "\n",
    "print(f'Best model F1: {best_model}')\n",
    "print(f'Best score F1: {best_score}')\n",
    "print(f'Best model accuracy: {best_acc_model}')\n",
    "print(f'Best score accuracy: {best_acc_score}')"
   ]
  },
  {
   "attachments": {},
   "cell_type": "markdown",
   "metadata": {},
   "source": [
    "notes: \\\n",
    "as of may 19, original strategies on preprocessing,\\\n",
    "xgboost best on public vecs does 0.953 F1, 0.082 test error, ~50/50 true good -> 95.4% F1 \\\n",
    "xgboost best on priv vecs does 0.952, 0.084 on te, 45/55 -> .953 F1 \\\n",
    "xgboost on our trained mini w2v does 0.937, .12, 20/80"
   ]
  },
  {
   "attachments": {},
   "cell_type": "markdown",
   "metadata": {},
   "source": [
    "Eval on best model:"
   ]
  },
  {
   "cell_type": "code",
   "execution_count": 65,
   "metadata": {},
   "outputs": [
    {
     "data": {
      "text/html": [
       "<style>#sk-container-id-7 {color: black;background-color: white;}#sk-container-id-7 pre{padding: 0;}#sk-container-id-7 div.sk-toggleable {background-color: white;}#sk-container-id-7 label.sk-toggleable__label {cursor: pointer;display: block;width: 100%;margin-bottom: 0;padding: 0.3em;box-sizing: border-box;text-align: center;}#sk-container-id-7 label.sk-toggleable__label-arrow:before {content: \"▸\";float: left;margin-right: 0.25em;color: #696969;}#sk-container-id-7 label.sk-toggleable__label-arrow:hover:before {color: black;}#sk-container-id-7 div.sk-estimator:hover label.sk-toggleable__label-arrow:before {color: black;}#sk-container-id-7 div.sk-toggleable__content {max-height: 0;max-width: 0;overflow: hidden;text-align: left;background-color: #f0f8ff;}#sk-container-id-7 div.sk-toggleable__content pre {margin: 0.2em;color: black;border-radius: 0.25em;background-color: #f0f8ff;}#sk-container-id-7 input.sk-toggleable__control:checked~div.sk-toggleable__content {max-height: 200px;max-width: 100%;overflow: auto;}#sk-container-id-7 input.sk-toggleable__control:checked~label.sk-toggleable__label-arrow:before {content: \"▾\";}#sk-container-id-7 div.sk-estimator input.sk-toggleable__control:checked~label.sk-toggleable__label {background-color: #d4ebff;}#sk-container-id-7 div.sk-label input.sk-toggleable__control:checked~label.sk-toggleable__label {background-color: #d4ebff;}#sk-container-id-7 input.sk-hidden--visually {border: 0;clip: rect(1px 1px 1px 1px);clip: rect(1px, 1px, 1px, 1px);height: 1px;margin: -1px;overflow: hidden;padding: 0;position: absolute;width: 1px;}#sk-container-id-7 div.sk-estimator {font-family: monospace;background-color: #f0f8ff;border: 1px dotted black;border-radius: 0.25em;box-sizing: border-box;margin-bottom: 0.5em;}#sk-container-id-7 div.sk-estimator:hover {background-color: #d4ebff;}#sk-container-id-7 div.sk-parallel-item::after {content: \"\";width: 100%;border-bottom: 1px solid gray;flex-grow: 1;}#sk-container-id-7 div.sk-label:hover label.sk-toggleable__label {background-color: #d4ebff;}#sk-container-id-7 div.sk-serial::before {content: \"\";position: absolute;border-left: 1px solid gray;box-sizing: border-box;top: 0;bottom: 0;left: 50%;z-index: 0;}#sk-container-id-7 div.sk-serial {display: flex;flex-direction: column;align-items: center;background-color: white;padding-right: 0.2em;padding-left: 0.2em;position: relative;}#sk-container-id-7 div.sk-item {position: relative;z-index: 1;}#sk-container-id-7 div.sk-parallel {display: flex;align-items: stretch;justify-content: center;background-color: white;position: relative;}#sk-container-id-7 div.sk-item::before, #sk-container-id-7 div.sk-parallel-item::before {content: \"\";position: absolute;border-left: 1px solid gray;box-sizing: border-box;top: 0;bottom: 0;left: 50%;z-index: -1;}#sk-container-id-7 div.sk-parallel-item {display: flex;flex-direction: column;z-index: 1;position: relative;background-color: white;}#sk-container-id-7 div.sk-parallel-item:first-child::after {align-self: flex-end;width: 50%;}#sk-container-id-7 div.sk-parallel-item:last-child::after {align-self: flex-start;width: 50%;}#sk-container-id-7 div.sk-parallel-item:only-child::after {width: 0;}#sk-container-id-7 div.sk-dashed-wrapped {border: 1px dashed gray;margin: 0 0.4em 0.5em 0.4em;box-sizing: border-box;padding-bottom: 0.4em;background-color: white;}#sk-container-id-7 div.sk-label label {font-family: monospace;font-weight: bold;display: inline-block;line-height: 1.2em;}#sk-container-id-7 div.sk-label-container {text-align: center;}#sk-container-id-7 div.sk-container {/* jupyter's `normalize.less` sets `[hidden] { display: none; }` but bootstrap.min.css set `[hidden] { display: none !important; }` so we also need the `!important` here to be able to override the default hidden behavior on the sphinx rendered scikit-learn.org. See: https://github.com/scikit-learn/scikit-learn/issues/21755 */display: inline-block !important;position: relative;}#sk-container-id-7 div.sk-text-repr-fallback {display: none;}</style><div id=\"sk-container-id-7\" class=\"sk-top-container\"><div class=\"sk-text-repr-fallback\"><pre>XGBClassifier(base_score=None, booster=None, callbacks=None,\n",
       "              colsample_bylevel=None, colsample_bynode=None,\n",
       "              colsample_bytree=0.8, early_stopping_rounds=None,\n",
       "              enable_categorical=False, eval_metric=None, feature_types=None,\n",
       "              gamma=None, gpu_id=None, grow_policy=None, importance_type=None,\n",
       "              interaction_constraints=None, learning_rate=0.2, max_bin=None,\n",
       "              max_cat_threshold=None, max_cat_to_onehot=None,\n",
       "              max_delta_step=None, max_depth=4, max_leaves=None,\n",
       "              min_child_weight=None, missing=nan, monotone_constraints=None,\n",
       "              n_estimators=300, n_jobs=None, num_parallel_tree=None,\n",
       "              predictor=None, random_state=None, ...)</pre><b>In a Jupyter environment, please rerun this cell to show the HTML representation or trust the notebook. <br />On GitHub, the HTML representation is unable to render, please try loading this page with nbviewer.org.</b></div><div class=\"sk-container\" hidden><div class=\"sk-item\"><div class=\"sk-estimator sk-toggleable\"><input class=\"sk-toggleable__control sk-hidden--visually\" id=\"sk-estimator-id-7\" type=\"checkbox\" checked><label for=\"sk-estimator-id-7\" class=\"sk-toggleable__label sk-toggleable__label-arrow\">XGBClassifier</label><div class=\"sk-toggleable__content\"><pre>XGBClassifier(base_score=None, booster=None, callbacks=None,\n",
       "              colsample_bylevel=None, colsample_bynode=None,\n",
       "              colsample_bytree=0.8, early_stopping_rounds=None,\n",
       "              enable_categorical=False, eval_metric=None, feature_types=None,\n",
       "              gamma=None, gpu_id=None, grow_policy=None, importance_type=None,\n",
       "              interaction_constraints=None, learning_rate=0.2, max_bin=None,\n",
       "              max_cat_threshold=None, max_cat_to_onehot=None,\n",
       "              max_delta_step=None, max_depth=4, max_leaves=None,\n",
       "              min_child_weight=None, missing=nan, monotone_constraints=None,\n",
       "              n_estimators=300, n_jobs=None, num_parallel_tree=None,\n",
       "              predictor=None, random_state=None, ...)</pre></div></div></div></div></div>"
      ],
      "text/plain": [
       "XGBClassifier(base_score=None, booster=None, callbacks=None,\n",
       "              colsample_bylevel=None, colsample_bynode=None,\n",
       "              colsample_bytree=0.8, early_stopping_rounds=None,\n",
       "              enable_categorical=False, eval_metric=None, feature_types=None,\n",
       "              gamma=None, gpu_id=None, grow_policy=None, importance_type=None,\n",
       "              interaction_constraints=None, learning_rate=0.2, max_bin=None,\n",
       "              max_cat_threshold=None, max_cat_to_onehot=None,\n",
       "              max_delta_step=None, max_depth=4, max_leaves=None,\n",
       "              min_child_weight=None, missing=nan, monotone_constraints=None,\n",
       "              n_estimators=300, n_jobs=None, num_parallel_tree=None,\n",
       "              predictor=None, random_state=None, ...)"
      ]
     },
     "execution_count": 65,
     "metadata": {},
     "output_type": "execute_result"
    }
   ],
   "source": [
    "BEST = 'xgboost-best'\n",
    "clf = models[BEST]\n",
    "clf.fit(X_tr, y_tr)"
   ]
  },
  {
   "attachments": {},
   "cell_type": "markdown",
   "metadata": {},
   "source": [
    "Evaluation:"
   ]
  },
  {
   "cell_type": "code",
   "execution_count": 70,
   "metadata": {},
   "outputs": [
    {
     "name": "stdout",
     "output_type": "stream",
     "text": [
      "Train error: 0.0\n",
      "Test error: 0.07633587786259544\n",
      "Precision: 0.9336099585062241\n",
      "Recall: 0.982532751091703\n",
      "F1: 0.9574468085106382\n"
     ]
    }
   ],
   "source": [
    "# find train and test error\n",
    "print('Train error:', 1 - clf.score(X_tr, y_tr))\n",
    "print('Test error:', 1- clf.score(X_te, y_te))\n",
    "\n",
    "# find precision, recall, and f1\n",
    "y_pred = clf.predict(X_te)\n",
    "print('Precision:', precision_score(y_te, y_pred))\n",
    "print('Recall:', recall_score(y_te, y_pred))\n",
    "print('F1:', f1_score(y_te, y_pred))"
   ]
  },
  {
   "cell_type": "code",
   "execution_count": 74,
   "metadata": {},
   "outputs": [
    {
     "data": {
      "text/plain": [
       "1.0"
      ]
     },
     "execution_count": 74,
     "metadata": {},
     "output_type": "execute_result"
    }
   ],
   "source": [
    ".125 * 8"
   ]
  },
  {
   "cell_type": "code",
   "execution_count": 67,
   "metadata": {},
   "outputs": [
    {
     "name": "stdout",
     "output_type": "stream",
     "text": [
      "Confusion Matrix:\n",
      " [[ 34  32]\n",
      " [  8 450]]\n"
     ]
    }
   ],
   "source": [
    "from sklearn.metrics import confusion_matrix\n",
    "\n",
    "# Make predictions on test data\n",
    "y_pred = clf.predict(X_te)\n",
    "\n",
    "# Create confusion matrix\n",
    "cm = confusion_matrix(y_te, y_pred)\n",
    "\n",
    "# Print confusion matrix\n",
    "print(\"Confusion Matrix:\\n\", cm)"
   ]
  },
  {
   "cell_type": "code",
   "execution_count": 68,
   "metadata": {},
   "outputs": [
    {
     "data": {
      "image/png": "[encoded data removed]",
      "text/plain": [
       "<Figure size 800x600 with 1 Axes>"
      ]
     },
     "metadata": {},
     "output_type": "display_data"
    }
   ],
   "source": [
    "from util import provide_confusion_matrix\n",
    "\n",
    "provide_confusion_matrix(y_te, y_pred)"
   ]
  },
  {
   "cell_type": "code",
   "execution_count": 64,
   "metadata": {},
   "outputs": [
    {
     "name": "stdout",
     "output_type": "stream",
     "text": [
      "F1: 0.830694275274056\n"
     ]
    },
    {
     "data": {
      "image/png": "[encoded data removed]",
      "text/plain": [
       "<Figure size 800x600 with 1 Axes>"
      ]
     },
     "metadata": {},
     "output_type": "display_data"
    }
   ],
   "source": [
    "probs = clf.predict_proba(X_te)\n",
    "\n",
    "# need to be 80% confident to predict bad\n",
    "y_pred = np.array([1 if p[1] > 0.86 else 0 for p in probs])\n",
    "\n",
    "# Create confusion matrix\n",
    "cm = confusion_matrix(y_te, y_pred)\n",
    "# f1\n",
    "print('F1:', f1_score(y_te, y_pred))\n",
    "\n",
    "provide_confusion_matrix(y_te, y_pred)"
   ]
  },
  {
   "cell_type": "code",
   "execution_count": 21,
   "metadata": {},
   "outputs": [
    {
     "data": {
      "image/png": "[encoded data removed]",
      "text/plain": [
       "<Figure size 800x600 with 1 Axes>"
      ]
     },
     "metadata": {},
     "output_type": "display_data"
    }
   ],
   "source": [
    "provide_confusion_matrix(y_tr, clf.predict(X_tr))"
   ]
  },
  {
   "attachments": {},
   "cell_type": "markdown",
   "metadata": {},
   "source": [
    "priv vectors, no stopwords:\\\n",
    "avg: 51/48; 2/98\\\n",
    "min: 42; 1.3\\\n",
    "max: 38; 2"
   ]
  }
 ],
 "metadata": {
  "kernelspec": {
   "display_name": "fr",
   "language": "python",
   "name": "python3"
  },
  "language_info": {
   "codemirror_mode": {
    "name": "ipython",
    "version": 3
   },
   "file_extension": ".py",
   "mimetype": "text/x-python",
   "name": "python",
   "nbconvert_exporter": "python",
   "pygments_lexer": "ipython3",
   "version": "3.10.8"
  },
  "orig_nbformat": 4
 },
 "nbformat": 4,
 "nbformat_minor": 2
}

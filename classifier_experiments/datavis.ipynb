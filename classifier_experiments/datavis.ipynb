{
 "cells": [
  {
   "attachments": {},
   "cell_type": "markdown",
   "metadata": {},
   "source": [
    "### Visualization Notebook"
   ]
  },
  {
   "attachments": {},
   "cell_type": "markdown",
   "metadata": {},
   "source": [
    "Summary: \\\n",
    "Quick experiments to view word-vector distribution in 3D space. Could be worth investigating with the ada / claude generated vectors as well. General results for preliminary vectorizers / cleaning strategies showed no real patterns in the reduced dimensionality."
   ]
  },
  {
   "attachments": {},
   "cell_type": "markdown",
   "metadata": {},
   "source": [
    "PCA Vis for Word Vectors"
   ]
  },
  {
   "cell_type": "code",
   "execution_count": null,
   "metadata": {},
   "outputs": [],
   "source": [
    "from Vectorizers import PreW2V, AdaVectorizer\n",
    "from DataLoaders import AbstractDataLoader, OriginalDataLoader, ProcessedData, NoSWLoader, MatchLoader\n",
    "from typing import List\n",
    "import numpy as np\n",
    "import pandas as pd\n",
    "from type_utils import MatchedData, Label, CleanedAndLabeledData, UnprocessedData"
   ]
  },
  {
   "cell_type": "code",
   "execution_count": null,
   "metadata": {},
   "outputs": [],
   "source": [
    "# dataloader: AbstractDataLoader = NoSWLoader(data_path='../william_data/test_xml/')\n",
    "dataloader = MatchLoader(data_path='../william_data/test_xml/')\n",
    "data_o: MatchedData = dataloader.load_and_preprocess_data()\n",
    "\n",
    "def quick_clean(x: str) -> str:\n",
    "    import re\n",
    "    # remove \\n\n",
    "    x = x.replace('\\n', ' ')\n",
    "    # follow this form: 'oc- cupent' -> 'occupent'\n",
    "    x = re.sub(r'(?<=[a-zA-Z])-\\s', '', x)\n",
    "\n",
    "    return x\n",
    "\n",
    "data: UnprocessedData = {\n",
    "    'good': [quick_clean(e['snippet']) for e in data_o['good']],\n",
    "    'bad': [quick_clean(e['snippet']) for e in data_o['bad']]\n",
    "}\n",
    "\n",
    "vectorizer = AdaVectorizer() #PreW2V('fr_w2v_web_w5')\n",
    "X,y = vectorizer.vectorize(data)"
   ]
  },
  {
   "cell_type": "code",
   "execution_count": null,
   "metadata": {},
   "outputs": [],
   "source": [
    "import matplotlib.pyplot as plt\n",
    "import pandas as pd\n",
    "\n",
    "# use PCA to create a 3d representation of our data points in X using plotly. color code them by their label. \n",
    "# on hover, show the index of the data point and the corresponding sentence\n",
    "from sklearn.decomposition import PCA\n",
    "from plotly import graph_objects as go\n",
    "\n",
    "pca = PCA(n_components=3)\n",
    "pca_result = pca.fit_transform(X)\n",
    "\n",
    "# create a dataframe with the 3 pca dimensions and the label\n",
    "pca_df = pd.DataFrame(pca_result, columns=['pca1', 'pca2', 'pca3'])\n",
    "pca_df['label'] = y\n",
    "\n",
    "# create a figure\n",
    "fig = go.Figure()\n",
    "\n",
    "# add a scatter plot with the pca dimensions as x, y, z and the label as the color\n",
    "fig.add_trace(go.Scatter3d(\n",
    "    x=pca_df['pca1'],\n",
    "    y=pca_df['pca2'],\n",
    "    z=pca_df['pca3'],\n",
    "    mode='markers',\n",
    "    marker=dict(\n",
    "        size=3,\n",
    "        color=pca_df['label'],\n",
    "        colorscale='Viridis',\n",
    "        opacity=0.8\n",
    "    )\n",
    "))\n",
    "\n",
    "# show the figure\n",
    "fig.show()"
   ]
  },
  {
   "cell_type": "code",
   "execution_count": null,
   "metadata": {},
   "outputs": [],
   "source": [
    "from sklearn.decomposition import IncrementalPCA    # inital reduction\n",
    "from sklearn.manifold import TSNE                   # final reduction\n",
    "import numpy as np                                  # array handling\n",
    "\n",
    "model = vectorizer.model\n",
    "\n",
    "def reduce_dimensions(model):\n",
    "    num_dimensions = 2  # final num dimensions (2D, 3D, etc)\n",
    "\n",
    "    # extract the words & their vectors, as numpy arrays\n",
    "    vectors = np.asarray(model.vectors)\n",
    "    labels = np.asarray(model.index_to_key)  # fixed-width numpy strings\n",
    "\n",
    "    # reduce using t-SNE\n",
    "    tsne = TSNE(n_components=num_dimensions, random_state=0)\n",
    "    vectors = tsne.fit_transform(vectors)\n",
    "\n",
    "    x_vals = [v[0] for v in vectors]\n",
    "    y_vals = [v[1] for v in vectors]\n",
    "    return x_vals, y_vals, labels\n",
    "\n",
    "\n",
    "x_vals, y_vals, labels = reduce_dimensions(model)\n",
    "\n",
    "\n",
    "def plot_with_matplotlib(x_vals, y_vals, labels):\n",
    "    import matplotlib.pyplot as plt\n",
    "    import random\n",
    "\n",
    "    random.seed(0)\n",
    "\n",
    "    plt.figure(figsize=(12, 12))\n",
    "    plt.scatter(x_vals, y_vals)\n",
    "\n",
    "    #\n",
    "    # Label randomly subsampled 25 data points\n",
    "    #\n",
    "    indices = list(range(len(labels)))\n",
    "    selected_indices = random.sample(indices, 25)\n",
    "    for i in selected_indices:\n",
    "        plt.annotate(labels[i], (x_vals[i], y_vals[i]))\n",
    "\n",
    "plot_function = plot_with_matplotlib\n",
    "\n",
    "\n",
    "plot_function(x_vals, y_vals, labels)"
   ]
  },
  {
   "attachments": {},
   "cell_type": "markdown",
   "metadata": {},
   "source": [
    "Insight into good / bad classes"
   ]
  },
  {
   "cell_type": "code",
   "execution_count": null,
   "metadata": {},
   "outputs": [],
   "source": [
    "def data_to_sentence(data: List[str]):\n",
    "    return ' '.join(data)\n",
    "\n",
    "# print a random good and random bad sentence\n",
    "print(data_to_sentence(data['good'][np.random.randint(0, len(data['good']))]))\n",
    "print(data_to_sentence(data['bad'][np.random.randint(0, len(data['bad']))]))"
   ]
  },
  {
   "cell_type": "code",
   "execution_count": null,
   "metadata": {},
   "outputs": [],
   "source": []
  }
 ],
 "metadata": {
  "kernelspec": {
   "display_name": "fr",
   "language": "python",
   "name": "python3"
  },
  "language_info": {
   "codemirror_mode": {
    "name": "ipython",
    "version": 3
   },
   "file_extension": ".py",
   "mimetype": "text/x-python",
   "name": "python",
   "nbconvert_exporter": "python",
   "pygments_lexer": "ipython3",
   "version": "3.10.8"
  },
  "orig_nbformat": 4
 },
 "nbformat": 4,
 "nbformat_minor": 2
}

{
 "cells": [
  {
   "attachments": {},
   "cell_type": "markdown",
   "metadata": {},
   "source": [
    "Summary: \\\n",
    "Sketches of experiments with GPT as a classifer itself. Mostly abandoned since it'll be cheaper / more efficient to use GPT as a cleaner and still use a classical model to do classification"
   ]
  },
  {
   "cell_type": "code",
   "execution_count": 1,
   "metadata": {},
   "outputs": [
    {
     "name": "stdout",
     "output_type": "stream",
     "text": [
      "\n",
      "# good 328\n",
      "# bad 2290\n"
     ]
    }
   ],
   "source": [
    "from DataLoaders import MatchLoader, AbstractDataLoader\n",
    "from type_utils import UnprocessedData, MatchedData\n",
    "from CustomModels import GPTModel\n",
    "\n",
    "loader: AbstractDataLoader = MatchLoader(data_path='../william_data/test_xml/')\n",
    "data: MatchedData = loader.load_and_preprocess_data()"
   ]
  },
  {
   "cell_type": "code",
   "execution_count": 2,
   "metadata": {},
   "outputs": [],
   "source": [
    "model = GPTModel(gpt4=False)"
   ]
  },
  {
   "cell_type": "code",
   "execution_count": 3,
   "metadata": {},
   "outputs": [
    {
     "data": {
      "text/plain": [
       "{'monument': 'Jardin des Plantes',\n",
       " 'snippet': \"ement en de 50 mètres pèse 174, 00 et bronze demi, de la tout kilogrammes. Ses ornemens rappellent les faits, auxquels elle a été consacrée, et les noms de 504 citoyens, qui y périrent, sont gravés par ordre alphabétique sur son fût, qui s'élève majestueusement avec son piédestal sur deux soubassemens en marbre blanc. Une élégante grille en fonte de fer, fort estimée par les con- \\n…maisseurs, entoure le monument, -et une petite porte en bronze ciselé, donné accès à l'escalier conduisant au sommet de la colonne. Deux cent cinq marches, | \\n—\\n| 264 — entre deux rampes en bronze, assez larges \\n|\\n| pour que deux personnes à côté l’une de l’autre puissent y monter ensemble, nous amenèrent à une balustrade à jour \\n| qui couronne le chapiteau : une lanterne surmontée d’une statue représentant le Génie de la liberté termine agréable- ment l'aspect général de la colonne. De là on découvre le plus magnifique panorama qu'il soit possible d'imaginer: \\n| \\n| tous les monumens de Paris, la Seine, le Jardin des Plantes, Vincennes, le Père-Lachaise, Montmartre, Saint-Denis etc, se présentent aux yeux étonnés de l'observateur, en faisant un beau cercle autour de Jui. Je me sentais si aise sur cette colonne, à la vue de ce spectacle magnifique, que je ne faisais presque \\n|\\n|\\n| aucune attention au vent très-fort, qui aurait emporté dès le premier moment \\n| \\n| mon chapeau et celui de mon ami, si nous n'avions pas pris tout de suite la précaution d’y porter nos mains, et de \\n| ration par un autre spectacle, qui ne me les tenir collés sur nos têtes. Cependant je fus presque aussitôt tiré de mon admi- \\n| frappa \\n| pr \\n| pas moins que le premier: je pe \\n— 265— crus m'appercevoir que la colonne n'é- tait pas immobile. Je pris d’abord cela pour une illusion, mais l’ondulation en\\nétait si sensible, qu'il ne fallait que deux yeux pour se convaincre que l'on ne se trompait pas. Mon ami avait fait la même remarque, et, avant que j'eusse ouvert la bouche pour lui en par- ler, il m'en témoigna sa surprise. Je questionnai là-dessus un Parisien, qui se trouvaità la balustrade, et il me ré- pondit, que d’autres avant nous avaient déjà fait la même observation, laquelle ne peut plus échapper dès qu'il fait beaucoup de vent. — Nous y restâmes quelque tems encore pour savourer tout\\nà notre aise les fortes sensations que produisaient sur nous la vue de ce beau panorama, le vent qui sifilait horrible- ment dans la lanterne, et le branle de la colonne: nous descendimes ensuite, en comparant ce monument avec celui de la place Vendôme. Il paraît exister beaucoup d’analogie entre ces deux colonnes: la différence pourtant est grande, si l’on veut considérer que la colonne Vendôme est en pierre re- — 266 ns vêtue de bronze,  tandis que celle-ci, y compris l'escalier et toute la char- pente, ne se compose que de grandes pièces en bronze arrangées les unes sur les autres, sans le moindre travail de maçonnerie. En sortant, nous trouvàmes que le vent soufllait presque aussi fort en bas, qu'en haut. Charles voula\"}"
      ]
     },
     "execution_count": 3,
     "metadata": {},
     "output_type": "execute_result"
    }
   ],
   "source": [
    "data['good'][1]"
   ]
  },
  {
   "cell_type": "code",
   "execution_count": 5,
   "metadata": {},
   "outputs": [
    {
     "name": "stdout",
     "output_type": "stream",
     "text": [
      "{\n",
      "    \"label\": \"bad\"\n",
      "}\n",
      "{\n",
      "    \"label\": \"bad\"\n",
      "}\n",
      "{\n",
      "    \"label\": \"bad\"\n",
      "}\n"
     ]
    },
    {
     "ename": "KeyboardInterrupt",
     "evalue": "",
     "output_type": "error",
     "traceback": [
      "\u001b[0;31m---------------------------------------------------------------------------\u001b[0m",
      "\u001b[0;31mKeyboardInterrupt\u001b[0m                         Traceback (most recent call last)",
      "Cell \u001b[0;32mIn[5], line 1\u001b[0m\n\u001b[0;32m----> 1\u001b[0m model\u001b[39m.\u001b[39;49mpredict(data[\u001b[39m'\u001b[39;49m\u001b[39mgood\u001b[39;49m\u001b[39m'\u001b[39;49m][\u001b[39m0\u001b[39;49m:\u001b[39m10\u001b[39;49m])\n",
      "File \u001b[0;32m~/Documents/Programs/Paris-Project/classifier_experiments/CustomModels.py:21\u001b[0m, in \u001b[0;36mGPTModel.predict\u001b[0;34m(self, X)\u001b[0m\n\u001b[1;32m     20\u001b[0m \u001b[39mdef\u001b[39;00m \u001b[39mpredict\u001b[39m(\u001b[39mself\u001b[39m, X: List[Match]) \u001b[39m-\u001b[39m\u001b[39m>\u001b[39m List[Label]:\n\u001b[0;32m---> 21\u001b[0m     \u001b[39mreturn\u001b[39;00m [\u001b[39mself\u001b[39m\u001b[39m.\u001b[39m_get_label_from_gpt(x) \u001b[39mfor\u001b[39;00m x \u001b[39min\u001b[39;00m X]\n",
      "File \u001b[0;32m~/Documents/Programs/Paris-Project/classifier_experiments/CustomModels.py:21\u001b[0m, in \u001b[0;36m<listcomp>\u001b[0;34m(.0)\u001b[0m\n\u001b[1;32m     20\u001b[0m \u001b[39mdef\u001b[39;00m \u001b[39mpredict\u001b[39m(\u001b[39mself\u001b[39m, X: List[Match]) \u001b[39m-\u001b[39m\u001b[39m>\u001b[39m List[Label]:\n\u001b[0;32m---> 21\u001b[0m     \u001b[39mreturn\u001b[39;00m [\u001b[39mself\u001b[39;49m\u001b[39m.\u001b[39;49m_get_label_from_gpt(x) \u001b[39mfor\u001b[39;00m x \u001b[39min\u001b[39;00m X]\n",
      "File \u001b[0;32m~/Documents/Programs/Paris-Project/classifier_experiments/CustomModels.py:56\u001b[0m, in \u001b[0;36mGPTModel._get_label_from_gpt\u001b[0;34m(self, x)\u001b[0m\n\u001b[1;32m     53\u001b[0m \u001b[39m# print(msgs)\u001b[39;00m\n\u001b[1;32m     55\u001b[0m model \u001b[39m=\u001b[39m \u001b[39m\"\u001b[39m\u001b[39mgpt-4\u001b[39m\u001b[39m\"\u001b[39m \u001b[39mif\u001b[39;00m \u001b[39mself\u001b[39m\u001b[39m.\u001b[39mgpt4 \u001b[39melse\u001b[39;00m \u001b[39m\"\u001b[39m\u001b[39mgpt-3.5-turbo\u001b[39m\u001b[39m\"\u001b[39m\n\u001b[0;32m---> 56\u001b[0m response \u001b[39m=\u001b[39m openai\u001b[39m.\u001b[39;49mChatCompletion\u001b[39m.\u001b[39;49mcreate(\n\u001b[1;32m     57\u001b[0m     model\u001b[39m=\u001b[39;49mmodel,\n\u001b[1;32m     58\u001b[0m     messages\u001b[39m=\u001b[39;49mmsgs\n\u001b[1;32m     59\u001b[0m )\n\u001b[1;32m     61\u001b[0m model_response: \u001b[39mstr\u001b[39m \u001b[39m=\u001b[39m response\u001b[39m.\u001b[39mchoices[\u001b[39m0\u001b[39m]\u001b[39m.\u001b[39mmessage\u001b[39m.\u001b[39mcontent\n\u001b[1;32m     62\u001b[0m \u001b[39mprint\u001b[39m(model_response)\n",
      "File \u001b[0;32m~/opt/miniconda3/envs/fr/lib/python3.10/site-packages/openai/api_resources/chat_completion.py:25\u001b[0m, in \u001b[0;36mChatCompletion.create\u001b[0;34m(cls, *args, **kwargs)\u001b[0m\n\u001b[1;32m     23\u001b[0m \u001b[39mwhile\u001b[39;00m \u001b[39mTrue\u001b[39;00m:\n\u001b[1;32m     24\u001b[0m     \u001b[39mtry\u001b[39;00m:\n\u001b[0;32m---> 25\u001b[0m         \u001b[39mreturn\u001b[39;00m \u001b[39msuper\u001b[39;49m()\u001b[39m.\u001b[39;49mcreate(\u001b[39m*\u001b[39;49margs, \u001b[39m*\u001b[39;49m\u001b[39m*\u001b[39;49mkwargs)\n\u001b[1;32m     26\u001b[0m     \u001b[39mexcept\u001b[39;00m TryAgain \u001b[39mas\u001b[39;00m e:\n\u001b[1;32m     27\u001b[0m         \u001b[39mif\u001b[39;00m timeout \u001b[39mis\u001b[39;00m \u001b[39mnot\u001b[39;00m \u001b[39mNone\u001b[39;00m \u001b[39mand\u001b[39;00m time\u001b[39m.\u001b[39mtime() \u001b[39m>\u001b[39m start \u001b[39m+\u001b[39m timeout:\n",
      "File \u001b[0;32m~/opt/miniconda3/envs/fr/lib/python3.10/site-packages/openai/api_resources/abstract/engine_api_resource.py:153\u001b[0m, in \u001b[0;36mEngineAPIResource.create\u001b[0;34m(cls, api_key, api_base, api_type, request_id, api_version, organization, **params)\u001b[0m\n\u001b[1;32m    127\u001b[0m \u001b[39m@classmethod\u001b[39m\n\u001b[1;32m    128\u001b[0m \u001b[39mdef\u001b[39;00m \u001b[39mcreate\u001b[39m(\n\u001b[1;32m    129\u001b[0m     \u001b[39mcls\u001b[39m,\n\u001b[0;32m   (...)\u001b[0m\n\u001b[1;32m    136\u001b[0m     \u001b[39m*\u001b[39m\u001b[39m*\u001b[39mparams,\n\u001b[1;32m    137\u001b[0m ):\n\u001b[1;32m    138\u001b[0m     (\n\u001b[1;32m    139\u001b[0m         deployment_id,\n\u001b[1;32m    140\u001b[0m         engine,\n\u001b[0;32m   (...)\u001b[0m\n\u001b[1;32m    150\u001b[0m         api_key, api_base, api_type, api_version, organization, \u001b[39m*\u001b[39m\u001b[39m*\u001b[39mparams\n\u001b[1;32m    151\u001b[0m     )\n\u001b[0;32m--> 153\u001b[0m     response, _, api_key \u001b[39m=\u001b[39m requestor\u001b[39m.\u001b[39;49mrequest(\n\u001b[1;32m    154\u001b[0m         \u001b[39m\"\u001b[39;49m\u001b[39mpost\u001b[39;49m\u001b[39m\"\u001b[39;49m,\n\u001b[1;32m    155\u001b[0m         url,\n\u001b[1;32m    156\u001b[0m         params\u001b[39m=\u001b[39;49mparams,\n\u001b[1;32m    157\u001b[0m         headers\u001b[39m=\u001b[39;49mheaders,\n\u001b[1;32m    158\u001b[0m         stream\u001b[39m=\u001b[39;49mstream,\n\u001b[1;32m    159\u001b[0m         request_id\u001b[39m=\u001b[39;49mrequest_id,\n\u001b[1;32m    160\u001b[0m         request_timeout\u001b[39m=\u001b[39;49mrequest_timeout,\n\u001b[1;32m    161\u001b[0m     )\n\u001b[1;32m    163\u001b[0m     \u001b[39mif\u001b[39;00m stream:\n\u001b[1;32m    164\u001b[0m         \u001b[39m# must be an iterator\u001b[39;00m\n\u001b[1;32m    165\u001b[0m         \u001b[39massert\u001b[39;00m \u001b[39mnot\u001b[39;00m \u001b[39misinstance\u001b[39m(response, OpenAIResponse)\n",
      "File \u001b[0;32m~/opt/miniconda3/envs/fr/lib/python3.10/site-packages/openai/api_requestor.py:216\u001b[0m, in \u001b[0;36mAPIRequestor.request\u001b[0;34m(self, method, url, params, headers, files, stream, request_id, request_timeout)\u001b[0m\n\u001b[1;32m    205\u001b[0m \u001b[39mdef\u001b[39;00m \u001b[39mrequest\u001b[39m(\n\u001b[1;32m    206\u001b[0m     \u001b[39mself\u001b[39m,\n\u001b[1;32m    207\u001b[0m     method,\n\u001b[0;32m   (...)\u001b[0m\n\u001b[1;32m    214\u001b[0m     request_timeout: Optional[Union[\u001b[39mfloat\u001b[39m, Tuple[\u001b[39mfloat\u001b[39m, \u001b[39mfloat\u001b[39m]]] \u001b[39m=\u001b[39m \u001b[39mNone\u001b[39;00m,\n\u001b[1;32m    215\u001b[0m ) \u001b[39m-\u001b[39m\u001b[39m>\u001b[39m Tuple[Union[OpenAIResponse, Iterator[OpenAIResponse]], \u001b[39mbool\u001b[39m, \u001b[39mstr\u001b[39m]:\n\u001b[0;32m--> 216\u001b[0m     result \u001b[39m=\u001b[39m \u001b[39mself\u001b[39;49m\u001b[39m.\u001b[39;49mrequest_raw(\n\u001b[1;32m    217\u001b[0m         method\u001b[39m.\u001b[39;49mlower(),\n\u001b[1;32m    218\u001b[0m         url,\n\u001b[1;32m    219\u001b[0m         params\u001b[39m=\u001b[39;49mparams,\n\u001b[1;32m    220\u001b[0m         supplied_headers\u001b[39m=\u001b[39;49mheaders,\n\u001b[1;32m    221\u001b[0m         files\u001b[39m=\u001b[39;49mfiles,\n\u001b[1;32m    222\u001b[0m         stream\u001b[39m=\u001b[39;49mstream,\n\u001b[1;32m    223\u001b[0m         request_id\u001b[39m=\u001b[39;49mrequest_id,\n\u001b[1;32m    224\u001b[0m         request_timeout\u001b[39m=\u001b[39;49mrequest_timeout,\n\u001b[1;32m    225\u001b[0m     )\n\u001b[1;32m    226\u001b[0m     resp, got_stream \u001b[39m=\u001b[39m \u001b[39mself\u001b[39m\u001b[39m.\u001b[39m_interpret_response(result, stream)\n\u001b[1;32m    227\u001b[0m     \u001b[39mreturn\u001b[39;00m resp, got_stream, \u001b[39mself\u001b[39m\u001b[39m.\u001b[39mapi_key\n",
      "File \u001b[0;32m~/opt/miniconda3/envs/fr/lib/python3.10/site-packages/openai/api_requestor.py:516\u001b[0m, in \u001b[0;36mAPIRequestor.request_raw\u001b[0;34m(self, method, url, params, supplied_headers, files, stream, request_id, request_timeout)\u001b[0m\n\u001b[1;32m    514\u001b[0m     _thread_context\u001b[39m.\u001b[39msession \u001b[39m=\u001b[39m _make_session()\n\u001b[1;32m    515\u001b[0m \u001b[39mtry\u001b[39;00m:\n\u001b[0;32m--> 516\u001b[0m     result \u001b[39m=\u001b[39m _thread_context\u001b[39m.\u001b[39;49msession\u001b[39m.\u001b[39;49mrequest(\n\u001b[1;32m    517\u001b[0m         method,\n\u001b[1;32m    518\u001b[0m         abs_url,\n\u001b[1;32m    519\u001b[0m         headers\u001b[39m=\u001b[39;49mheaders,\n\u001b[1;32m    520\u001b[0m         data\u001b[39m=\u001b[39;49mdata,\n\u001b[1;32m    521\u001b[0m         files\u001b[39m=\u001b[39;49mfiles,\n\u001b[1;32m    522\u001b[0m         stream\u001b[39m=\u001b[39;49mstream,\n\u001b[1;32m    523\u001b[0m         timeout\u001b[39m=\u001b[39;49mrequest_timeout \u001b[39mif\u001b[39;49;00m request_timeout \u001b[39melse\u001b[39;49;00m TIMEOUT_SECS,\n\u001b[1;32m    524\u001b[0m     )\n\u001b[1;32m    525\u001b[0m \u001b[39mexcept\u001b[39;00m requests\u001b[39m.\u001b[39mexceptions\u001b[39m.\u001b[39mTimeout \u001b[39mas\u001b[39;00m e:\n\u001b[1;32m    526\u001b[0m     \u001b[39mraise\u001b[39;00m error\u001b[39m.\u001b[39mTimeout(\u001b[39m\"\u001b[39m\u001b[39mRequest timed out: \u001b[39m\u001b[39m{}\u001b[39;00m\u001b[39m\"\u001b[39m\u001b[39m.\u001b[39mformat(e)) \u001b[39mfrom\u001b[39;00m \u001b[39me\u001b[39;00m\n",
      "File \u001b[0;32m~/opt/miniconda3/envs/fr/lib/python3.10/site-packages/requests/sessions.py:587\u001b[0m, in \u001b[0;36mSession.request\u001b[0;34m(self, method, url, params, data, headers, cookies, files, auth, timeout, allow_redirects, proxies, hooks, stream, verify, cert, json)\u001b[0m\n\u001b[1;32m    582\u001b[0m send_kwargs \u001b[39m=\u001b[39m {\n\u001b[1;32m    583\u001b[0m     \u001b[39m\"\u001b[39m\u001b[39mtimeout\u001b[39m\u001b[39m\"\u001b[39m: timeout,\n\u001b[1;32m    584\u001b[0m     \u001b[39m\"\u001b[39m\u001b[39mallow_redirects\u001b[39m\u001b[39m\"\u001b[39m: allow_redirects,\n\u001b[1;32m    585\u001b[0m }\n\u001b[1;32m    586\u001b[0m send_kwargs\u001b[39m.\u001b[39mupdate(settings)\n\u001b[0;32m--> 587\u001b[0m resp \u001b[39m=\u001b[39m \u001b[39mself\u001b[39;49m\u001b[39m.\u001b[39;49msend(prep, \u001b[39m*\u001b[39;49m\u001b[39m*\u001b[39;49msend_kwargs)\n\u001b[1;32m    589\u001b[0m \u001b[39mreturn\u001b[39;00m resp\n",
      "File \u001b[0;32m~/opt/miniconda3/envs/fr/lib/python3.10/site-packages/requests/sessions.py:701\u001b[0m, in \u001b[0;36mSession.send\u001b[0;34m(self, request, **kwargs)\u001b[0m\n\u001b[1;32m    698\u001b[0m start \u001b[39m=\u001b[39m preferred_clock()\n\u001b[1;32m    700\u001b[0m \u001b[39m# Send the request\u001b[39;00m\n\u001b[0;32m--> 701\u001b[0m r \u001b[39m=\u001b[39m adapter\u001b[39m.\u001b[39;49msend(request, \u001b[39m*\u001b[39;49m\u001b[39m*\u001b[39;49mkwargs)\n\u001b[1;32m    703\u001b[0m \u001b[39m# Total elapsed time of the request (approximately)\u001b[39;00m\n\u001b[1;32m    704\u001b[0m elapsed \u001b[39m=\u001b[39m preferred_clock() \u001b[39m-\u001b[39m start\n",
      "File \u001b[0;32m~/opt/miniconda3/envs/fr/lib/python3.10/site-packages/requests/adapters.py:489\u001b[0m, in \u001b[0;36mHTTPAdapter.send\u001b[0;34m(self, request, stream, timeout, verify, cert, proxies)\u001b[0m\n\u001b[1;32m    487\u001b[0m \u001b[39mtry\u001b[39;00m:\n\u001b[1;32m    488\u001b[0m     \u001b[39mif\u001b[39;00m \u001b[39mnot\u001b[39;00m chunked:\n\u001b[0;32m--> 489\u001b[0m         resp \u001b[39m=\u001b[39m conn\u001b[39m.\u001b[39;49murlopen(\n\u001b[1;32m    490\u001b[0m             method\u001b[39m=\u001b[39;49mrequest\u001b[39m.\u001b[39;49mmethod,\n\u001b[1;32m    491\u001b[0m             url\u001b[39m=\u001b[39;49murl,\n\u001b[1;32m    492\u001b[0m             body\u001b[39m=\u001b[39;49mrequest\u001b[39m.\u001b[39;49mbody,\n\u001b[1;32m    493\u001b[0m             headers\u001b[39m=\u001b[39;49mrequest\u001b[39m.\u001b[39;49mheaders,\n\u001b[1;32m    494\u001b[0m             redirect\u001b[39m=\u001b[39;49m\u001b[39mFalse\u001b[39;49;00m,\n\u001b[1;32m    495\u001b[0m             assert_same_host\u001b[39m=\u001b[39;49m\u001b[39mFalse\u001b[39;49;00m,\n\u001b[1;32m    496\u001b[0m             preload_content\u001b[39m=\u001b[39;49m\u001b[39mFalse\u001b[39;49;00m,\n\u001b[1;32m    497\u001b[0m             decode_content\u001b[39m=\u001b[39;49m\u001b[39mFalse\u001b[39;49;00m,\n\u001b[1;32m    498\u001b[0m             retries\u001b[39m=\u001b[39;49m\u001b[39mself\u001b[39;49m\u001b[39m.\u001b[39;49mmax_retries,\n\u001b[1;32m    499\u001b[0m             timeout\u001b[39m=\u001b[39;49mtimeout,\n\u001b[1;32m    500\u001b[0m         )\n\u001b[1;32m    502\u001b[0m     \u001b[39m# Send the request.\u001b[39;00m\n\u001b[1;32m    503\u001b[0m     \u001b[39melse\u001b[39;00m:\n\u001b[1;32m    504\u001b[0m         \u001b[39mif\u001b[39;00m \u001b[39mhasattr\u001b[39m(conn, \u001b[39m\"\u001b[39m\u001b[39mproxy_pool\u001b[39m\u001b[39m\"\u001b[39m):\n",
      "File \u001b[0;32m~/opt/miniconda3/envs/fr/lib/python3.10/site-packages/urllib3/connectionpool.py:703\u001b[0m, in \u001b[0;36mHTTPConnectionPool.urlopen\u001b[0;34m(self, method, url, body, headers, retries, redirect, assert_same_host, timeout, pool_timeout, release_conn, chunked, body_pos, **response_kw)\u001b[0m\n\u001b[1;32m    700\u001b[0m     \u001b[39mself\u001b[39m\u001b[39m.\u001b[39m_prepare_proxy(conn)\n\u001b[1;32m    702\u001b[0m \u001b[39m# Make the request on the httplib connection object.\u001b[39;00m\n\u001b[0;32m--> 703\u001b[0m httplib_response \u001b[39m=\u001b[39m \u001b[39mself\u001b[39;49m\u001b[39m.\u001b[39;49m_make_request(\n\u001b[1;32m    704\u001b[0m     conn,\n\u001b[1;32m    705\u001b[0m     method,\n\u001b[1;32m    706\u001b[0m     url,\n\u001b[1;32m    707\u001b[0m     timeout\u001b[39m=\u001b[39;49mtimeout_obj,\n\u001b[1;32m    708\u001b[0m     body\u001b[39m=\u001b[39;49mbody,\n\u001b[1;32m    709\u001b[0m     headers\u001b[39m=\u001b[39;49mheaders,\n\u001b[1;32m    710\u001b[0m     chunked\u001b[39m=\u001b[39;49mchunked,\n\u001b[1;32m    711\u001b[0m )\n\u001b[1;32m    713\u001b[0m \u001b[39m# If we're going to release the connection in ``finally:``, then\u001b[39;00m\n\u001b[1;32m    714\u001b[0m \u001b[39m# the response doesn't need to know about the connection. Otherwise\u001b[39;00m\n\u001b[1;32m    715\u001b[0m \u001b[39m# it will also try to release it and we'll have a double-release\u001b[39;00m\n\u001b[1;32m    716\u001b[0m \u001b[39m# mess.\u001b[39;00m\n\u001b[1;32m    717\u001b[0m response_conn \u001b[39m=\u001b[39m conn \u001b[39mif\u001b[39;00m \u001b[39mnot\u001b[39;00m release_conn \u001b[39melse\u001b[39;00m \u001b[39mNone\u001b[39;00m\n",
      "File \u001b[0;32m~/opt/miniconda3/envs/fr/lib/python3.10/site-packages/urllib3/connectionpool.py:449\u001b[0m, in \u001b[0;36mHTTPConnectionPool._make_request\u001b[0;34m(self, conn, method, url, timeout, chunked, **httplib_request_kw)\u001b[0m\n\u001b[1;32m    444\u001b[0m             httplib_response \u001b[39m=\u001b[39m conn\u001b[39m.\u001b[39mgetresponse()\n\u001b[1;32m    445\u001b[0m         \u001b[39mexcept\u001b[39;00m \u001b[39mBaseException\u001b[39;00m \u001b[39mas\u001b[39;00m e:\n\u001b[1;32m    446\u001b[0m             \u001b[39m# Remove the TypeError from the exception chain in\u001b[39;00m\n\u001b[1;32m    447\u001b[0m             \u001b[39m# Python 3 (including for exceptions like SystemExit).\u001b[39;00m\n\u001b[1;32m    448\u001b[0m             \u001b[39m# Otherwise it looks like a bug in the code.\u001b[39;00m\n\u001b[0;32m--> 449\u001b[0m             six\u001b[39m.\u001b[39;49mraise_from(e, \u001b[39mNone\u001b[39;49;00m)\n\u001b[1;32m    450\u001b[0m \u001b[39mexcept\u001b[39;00m (SocketTimeout, BaseSSLError, SocketError) \u001b[39mas\u001b[39;00m e:\n\u001b[1;32m    451\u001b[0m     \u001b[39mself\u001b[39m\u001b[39m.\u001b[39m_raise_timeout(err\u001b[39m=\u001b[39me, url\u001b[39m=\u001b[39murl, timeout_value\u001b[39m=\u001b[39mread_timeout)\n",
      "File \u001b[0;32m<string>:3\u001b[0m, in \u001b[0;36mraise_from\u001b[0;34m(value, from_value)\u001b[0m\n",
      "File \u001b[0;32m~/opt/miniconda3/envs/fr/lib/python3.10/site-packages/urllib3/connectionpool.py:444\u001b[0m, in \u001b[0;36mHTTPConnectionPool._make_request\u001b[0;34m(self, conn, method, url, timeout, chunked, **httplib_request_kw)\u001b[0m\n\u001b[1;32m    441\u001b[0m \u001b[39mexcept\u001b[39;00m \u001b[39mTypeError\u001b[39;00m:\n\u001b[1;32m    442\u001b[0m     \u001b[39m# Python 3\u001b[39;00m\n\u001b[1;32m    443\u001b[0m     \u001b[39mtry\u001b[39;00m:\n\u001b[0;32m--> 444\u001b[0m         httplib_response \u001b[39m=\u001b[39m conn\u001b[39m.\u001b[39;49mgetresponse()\n\u001b[1;32m    445\u001b[0m     \u001b[39mexcept\u001b[39;00m \u001b[39mBaseException\u001b[39;00m \u001b[39mas\u001b[39;00m e:\n\u001b[1;32m    446\u001b[0m         \u001b[39m# Remove the TypeError from the exception chain in\u001b[39;00m\n\u001b[1;32m    447\u001b[0m         \u001b[39m# Python 3 (including for exceptions like SystemExit).\u001b[39;00m\n\u001b[1;32m    448\u001b[0m         \u001b[39m# Otherwise it looks like a bug in the code.\u001b[39;00m\n\u001b[1;32m    449\u001b[0m         six\u001b[39m.\u001b[39mraise_from(e, \u001b[39mNone\u001b[39;00m)\n",
      "File \u001b[0;32m~/opt/miniconda3/envs/fr/lib/python3.10/http/client.py:1374\u001b[0m, in \u001b[0;36mHTTPConnection.getresponse\u001b[0;34m(self)\u001b[0m\n\u001b[1;32m   1372\u001b[0m \u001b[39mtry\u001b[39;00m:\n\u001b[1;32m   1373\u001b[0m     \u001b[39mtry\u001b[39;00m:\n\u001b[0;32m-> 1374\u001b[0m         response\u001b[39m.\u001b[39;49mbegin()\n\u001b[1;32m   1375\u001b[0m     \u001b[39mexcept\u001b[39;00m \u001b[39mConnectionError\u001b[39;00m:\n\u001b[1;32m   1376\u001b[0m         \u001b[39mself\u001b[39m\u001b[39m.\u001b[39mclose()\n",
      "File \u001b[0;32m~/opt/miniconda3/envs/fr/lib/python3.10/http/client.py:318\u001b[0m, in \u001b[0;36mHTTPResponse.begin\u001b[0;34m(self)\u001b[0m\n\u001b[1;32m    316\u001b[0m \u001b[39m# read until we get a non-100 response\u001b[39;00m\n\u001b[1;32m    317\u001b[0m \u001b[39mwhile\u001b[39;00m \u001b[39mTrue\u001b[39;00m:\n\u001b[0;32m--> 318\u001b[0m     version, status, reason \u001b[39m=\u001b[39m \u001b[39mself\u001b[39;49m\u001b[39m.\u001b[39;49m_read_status()\n\u001b[1;32m    319\u001b[0m     \u001b[39mif\u001b[39;00m status \u001b[39m!=\u001b[39m CONTINUE:\n\u001b[1;32m    320\u001b[0m         \u001b[39mbreak\u001b[39;00m\n",
      "File \u001b[0;32m~/opt/miniconda3/envs/fr/lib/python3.10/http/client.py:279\u001b[0m, in \u001b[0;36mHTTPResponse._read_status\u001b[0;34m(self)\u001b[0m\n\u001b[1;32m    278\u001b[0m \u001b[39mdef\u001b[39;00m \u001b[39m_read_status\u001b[39m(\u001b[39mself\u001b[39m):\n\u001b[0;32m--> 279\u001b[0m     line \u001b[39m=\u001b[39m \u001b[39mstr\u001b[39m(\u001b[39mself\u001b[39;49m\u001b[39m.\u001b[39;49mfp\u001b[39m.\u001b[39;49mreadline(_MAXLINE \u001b[39m+\u001b[39;49m \u001b[39m1\u001b[39;49m), \u001b[39m\"\u001b[39m\u001b[39miso-8859-1\u001b[39m\u001b[39m\"\u001b[39m)\n\u001b[1;32m    280\u001b[0m     \u001b[39mif\u001b[39;00m \u001b[39mlen\u001b[39m(line) \u001b[39m>\u001b[39m _MAXLINE:\n\u001b[1;32m    281\u001b[0m         \u001b[39mraise\u001b[39;00m LineTooLong(\u001b[39m\"\u001b[39m\u001b[39mstatus line\u001b[39m\u001b[39m\"\u001b[39m)\n",
      "File \u001b[0;32m~/opt/miniconda3/envs/fr/lib/python3.10/socket.py:705\u001b[0m, in \u001b[0;36mSocketIO.readinto\u001b[0;34m(self, b)\u001b[0m\n\u001b[1;32m    703\u001b[0m \u001b[39mwhile\u001b[39;00m \u001b[39mTrue\u001b[39;00m:\n\u001b[1;32m    704\u001b[0m     \u001b[39mtry\u001b[39;00m:\n\u001b[0;32m--> 705\u001b[0m         \u001b[39mreturn\u001b[39;00m \u001b[39mself\u001b[39;49m\u001b[39m.\u001b[39;49m_sock\u001b[39m.\u001b[39;49mrecv_into(b)\n\u001b[1;32m    706\u001b[0m     \u001b[39mexcept\u001b[39;00m timeout:\n\u001b[1;32m    707\u001b[0m         \u001b[39mself\u001b[39m\u001b[39m.\u001b[39m_timeout_occurred \u001b[39m=\u001b[39m \u001b[39mTrue\u001b[39;00m\n",
      "File \u001b[0;32m~/opt/miniconda3/envs/fr/lib/python3.10/ssl.py:1274\u001b[0m, in \u001b[0;36mSSLSocket.recv_into\u001b[0;34m(self, buffer, nbytes, flags)\u001b[0m\n\u001b[1;32m   1270\u001b[0m     \u001b[39mif\u001b[39;00m flags \u001b[39m!=\u001b[39m \u001b[39m0\u001b[39m:\n\u001b[1;32m   1271\u001b[0m         \u001b[39mraise\u001b[39;00m \u001b[39mValueError\u001b[39;00m(\n\u001b[1;32m   1272\u001b[0m           \u001b[39m\"\u001b[39m\u001b[39mnon-zero flags not allowed in calls to recv_into() on \u001b[39m\u001b[39m%s\u001b[39;00m\u001b[39m\"\u001b[39m \u001b[39m%\u001b[39m\n\u001b[1;32m   1273\u001b[0m           \u001b[39mself\u001b[39m\u001b[39m.\u001b[39m\u001b[39m__class__\u001b[39m)\n\u001b[0;32m-> 1274\u001b[0m     \u001b[39mreturn\u001b[39;00m \u001b[39mself\u001b[39;49m\u001b[39m.\u001b[39;49mread(nbytes, buffer)\n\u001b[1;32m   1275\u001b[0m \u001b[39melse\u001b[39;00m:\n\u001b[1;32m   1276\u001b[0m     \u001b[39mreturn\u001b[39;00m \u001b[39msuper\u001b[39m()\u001b[39m.\u001b[39mrecv_into(buffer, nbytes, flags)\n",
      "File \u001b[0;32m~/opt/miniconda3/envs/fr/lib/python3.10/ssl.py:1130\u001b[0m, in \u001b[0;36mSSLSocket.read\u001b[0;34m(self, len, buffer)\u001b[0m\n\u001b[1;32m   1128\u001b[0m \u001b[39mtry\u001b[39;00m:\n\u001b[1;32m   1129\u001b[0m     \u001b[39mif\u001b[39;00m buffer \u001b[39mis\u001b[39;00m \u001b[39mnot\u001b[39;00m \u001b[39mNone\u001b[39;00m:\n\u001b[0;32m-> 1130\u001b[0m         \u001b[39mreturn\u001b[39;00m \u001b[39mself\u001b[39;49m\u001b[39m.\u001b[39;49m_sslobj\u001b[39m.\u001b[39;49mread(\u001b[39mlen\u001b[39;49m, buffer)\n\u001b[1;32m   1131\u001b[0m     \u001b[39melse\u001b[39;00m:\n\u001b[1;32m   1132\u001b[0m         \u001b[39mreturn\u001b[39;00m \u001b[39mself\u001b[39m\u001b[39m.\u001b[39m_sslobj\u001b[39m.\u001b[39mread(\u001b[39mlen\u001b[39m)\n",
      "\u001b[0;31mKeyboardInterrupt\u001b[0m: "
     ]
    }
   ],
   "source": [
    "model.predict(data['good'][0:10])"
   ]
  },
  {
   "cell_type": "code",
   "execution_count": null,
   "metadata": {},
   "outputs": [
    {
     "data": {
      "text/plain": [
       "\"s de la gauche du spectateur. Tocr la mise en scène très-exacle, s'adresser à M, Dnierne, soufîleur-copiste au théâtre. UN MARIAGE DE PARIS ACTE PREMIER Un parc. — Posquets et bancs. — Statue sous le bosquet à gauche. — Au fond, un mur de clôture, — Au milieu du mur, un saut de loup.— Derrière le saut de loup, une route praticable. — Un banc à droite, — Ghaises de jardin, ete. SCÈNE PREMIÈRE MADAME MICHAUD, DE MARSAL, DES TOURNOIS*. \\n(Au lever du rideau Mme Michaud entre en scène du premier plan à droite, suivie de des Tournois, qui descend à gaushe, et de de Marsal, qui gagne la droite.) ; MADAME MICHAUD, Assez causé, mes bons messieurs, je n’entends rien à tous vos beaux mofs. — On ne m'a pas mise en pension à Saint Denis, moi; j'ai été marchande de beurre avant d’être millionnaire, et j'appelle les choses par leur nom. Ma nièce Victorine a cinq cent mille francs de dot que je lui donne, sans compter le, hâteau et le parc que voici : quarante-huit arpents de fu- taie à deux pas des Gobelins, en plein cœur de Paris. Après ma mort, le plus tard possible, s'il plaît à Dieu! Victorine hérilera de sept à huit millions, que feu Michaud, mon défunt, a économisés dans les démolitions. Il m’en aurait laissé plus que cela, le pauvre cher homme! si, dans son ardeur de démolition, il n'avait eu la bêlise de se démolir lui-même : c’est la seule mauvaise affaire qu'il ait faite, Mais il n’y a pas à dire mon bel ami, on ne peut pas revenir là-dessus! Je me suis mis là que ma nièce épouserait un noble, On jabotera, si on veut\\n* Des Tournois, Mme Michaud, de Marsal, i \\n+ 2 UN MARIAGE DE PARIS. jaboter, nous pouvons nous payer ça, nous avons le moyen! C’est bien assez que je me sois appelée Michaud toute ma vie, il faut que ma nièce porte un nom cossu et qu’elle fasse dessiner des petites armoires sur les machins de sa voiture ! Ça y est-il? DE MARSAL. Vous êtes, ma chère madame Michaud, d’une rondeur charmante! MADAME MICHAUD. C'est ce que ma corsetière me disait pas plus tard que ce monsieur de Marsal. DES TOURNOIS (accent toulousain)s Mon noble ami, madame, ne faisait allusion qu’à la sincérité matin, mon bon de votre caractère. MADAME MICHAUD. Je suis comme je suis! Ceux qui ne seront pas contents prendront la porte; tant qu'à vous, mes bonnes gens, vous\\nêtes tous les deux dans le programme! (4 de Mars.) Vous, Marsal, vous êtes vicomte, c’est-y pas comme Ça que ça se dit?\\n$ DE MARSAL, Oui, madame, ça se dit comme ça dans la famille depuis les croisades. MADAME MICHAUD, à des Tournois, Vous, des Tournois, vous êtes baron; je connais l’empereur en faisait. les barons, DES TOURNOIS. Nous autres, madame, nous datons du Béarnais, MADAME MICHAUD. \\nÇa m'est égal, du moment qu'on ne met pas sa date sur son chapeau, comme le numéro d’un conscrit. L'important c’est que Victorine sera baronne ou vicomtesse, suivant que vous vous mettrez l’un où l’autre dans ses petils papiers; mais comme nous ne sonmnes pas ici pour nous amuser, et comme ir grand'tante, je vous préviens que \""
      ]
     },
     "execution_count": 6,
     "metadata": {},
     "output_type": "execute_result"
    }
   ],
   "source": [
    "data['bad'][2] # obvious physical description here... confounding data"
   ]
  },
  {
   "cell_type": "code",
   "execution_count": null,
   "metadata": {},
   "outputs": [
    {
     "data": {
      "text/plain": [
       "\"ller était plus grand quele pouvoir de réussir. Elle ne tournait pas mal un billet du matin; mais d’un billet du matin à une œuvre littéraire, tant futile qu’elle soit, il y a encore ment loin, et madame \\nà fait incapable de R..... était tout de satisfaire par elle- même son goût pour crivain. passable- la réputation d’é- Elle fit donc ce que font les gens qui ont la prétention d'écrire et qui ne savent pas écrire : elle fit écrire par d’autres etse contenta de mettre son nom au bas de ces productions apocryphes. Elle s'adressa à des écrivains de bas lieu qui lui firent de la littérature à un écu la page, et qui lui gardaient fidèlement le secret pour son argent. Un jour qu’elle \\nétait seule, elle fut assez \\nétonnée  — d'entendre 59 annoncer \\n— l'abbé Pellegrie,  qu'elle ne connaissait que fort peu, qui ne venait pas chez elle. entrer, et l'abbé tirant de Elle et le fit sa poche un calepin assez crasseux, entame sans dé- tours la conversation suivante : > Madame, j'ai trouvé dans les Tuileries ce calepin, il appartient à un poètillon de ma connaissance qui se nomme... \\n( lui dit un nom parfaitement inconnu dans la littérature, mais à ce qu’il paraît très connu de madame de R..... car elle tressaillit.)\\n— C’est là dedans, continua Pellegrin, qu’il écrit ses brouillons; quelques mauvais vers \\nà la suite de\\nébauchés, voici ce que je trouve :\\n« Vers sur l'amitié,  livrerà madame \\n» de R..... avant dimanche prochain. \\n» \\n— Livré. — ln OR m3\\n« Fable pour madame de R.... \\n»n — Livrée. —\\n« Epître à Zémire, pour madame de DUR Tee — Cinquante à soixante vers à\\n» un écu pièce. » — À soigner. —\\n— Puis, ajouta Pellegrin, suit la pièce de l'écriture de mon ami le poètillon, et qui a paru avant-hier dans des Muses signée l’Almanach : Charlotte de R..... Mme de R... ne répondait pas; elle é‘tait confondue de l’audace de cet homme. Pellegrin poursuivit :\\n— J'ai toujours professé pour vous un grand respect, madame, et je suis aflligé de vous voir vous adresser \\nà de pareils goujats, quand plus d’un galant homme serait heureux de vous rendre ce léger service. Madame de R... fut tentée de sonner et de faire jeter Pellegrin par les fenêtres, elle se ravisa cependant :\\n— Si je comprends bien, monsieur l’abbé, dit-elle en réprimant un geste de dégoût, vous venez m'offrir de rempla- cer votre ami le poëtillon. \\n— Précisément.\\n— Et si je n’accepte pas, que ferez- vous?\\n— Je n’en sais rien; mais je garderai ce calepin, et il pourra m'être bon \\nà quelque chose.\\n— Voulez-vous me donner ce calepin?\\n— Je ne suis venu que pour cela. \\n— Il y a cinquante louis dans cette cassette, dit madame de R..., si vous voulez prendre la peine de les échanger con- tre le calepin, vous le pouvez. Pellegrin se leva, effectua et salua humblement, l'échange, gp:\\n— J'attends les ordres de Madame, dit- il avec une assurance mêlée de bassesse et d’arrogance. \\n— Je n’en ai pas à vous donner, dit sèchement madame de R... Pellegrin salua plus bas, et se retira. Huit jours après, madame de R... re- \\nçut le\""
      ]
     },
     "execution_count": 8,
     "metadata": {},
     "output_type": "execute_result"
    }
   ],
   "source": [
    "data['bad'][6]"
   ]
  },
  {
   "cell_type": "code",
   "execution_count": 6,
   "metadata": {},
   "outputs": [
    {
     "data": {
      "text/plain": [
       "{'monument': 'Jardin des Plantes',\n",
       " 'snippet': \"ement en de 50 mètres pèse 174, 00 et bronze demi, de la tout kilogrammes. Ses ornemens rappellent les faits, auxquels elle a été consacrée, et les noms de 504 citoyens, qui y périrent, sont gravés par ordre alphabétique sur son fût, qui s'élève majestueusement avec son piédestal sur deux soubassemens en marbre blanc. Une élégante grille en fonte de fer, fort estimée par les con- \\n…maisseurs, entoure le monument, -et une petite porte en bronze ciselé, donné accès à l'escalier conduisant au sommet de la colonne. Deux cent cinq marches, | \\n—\\n| 264 — entre deux rampes en bronze, assez larges \\n|\\n| pour que deux personnes à côté l’une de l’autre puissent y monter ensemble, nous amenèrent à une balustrade à jour \\n| qui couronne le chapiteau : une lanterne surmontée d’une statue représentant le Génie de la liberté termine agréable- ment l'aspect général de la colonne. De là on découvre le plus magnifique panorama qu'il soit possible d'imaginer: \\n| \\n| tous les monumens de Paris, la Seine, le Jardin des Plantes, Vincennes, le Père-Lachaise, Montmartre, Saint-Denis etc, se présentent aux yeux étonnés de l'observateur, en faisant un beau cercle autour de Jui. Je me sentais si aise sur cette colonne, à la vue de ce spectacle magnifique, que je ne faisais presque \\n|\\n|\\n| aucune attention au vent très-fort, qui aurait emporté dès le premier moment \\n| \\n| mon chapeau et celui de mon ami, si nous n'avions pas pris tout de suite la précaution d’y porter nos mains, et de \\n| ration par un autre spectacle, qui ne me les tenir collés sur nos têtes. Cependant je fus presque aussitôt tiré de mon admi- \\n| frappa \\n| pr \\n| pas moins que le premier: je pe \\n— 265— crus m'appercevoir que la colonne n'é- tait pas immobile. Je pris d’abord cela pour une illusion, mais l’ondulation en\\nétait si sensible, qu'il ne fallait que deux yeux pour se convaincre que l'on ne se trompait pas. Mon ami avait fait la même remarque, et, avant que j'eusse ouvert la bouche pour lui en par- ler, il m'en témoigna sa surprise. Je questionnai là-dessus un Parisien, qui se trouvaità la balustrade, et il me ré- pondit, que d’autres avant nous avaient déjà fait la même observation, laquelle ne peut plus échapper dès qu'il fait beaucoup de vent. — Nous y restâmes quelque tems encore pour savourer tout\\nà notre aise les fortes sensations que produisaient sur nous la vue de ce beau panorama, le vent qui sifilait horrible- ment dans la lanterne, et le branle de la colonne: nous descendimes ensuite, en comparant ce monument avec celui de la place Vendôme. Il paraît exister beaucoup d’analogie entre ces deux colonnes: la différence pourtant est grande, si l’on veut considérer que la colonne Vendôme est en pierre re- — 266 ns vêtue de bronze,  tandis que celle-ci, y compris l'escalier et toute la char- pente, ne se compose que de grandes pièces en bronze arrangées les unes sur les autres, sans le moindre travail de maçonnerie. En sortant, nous trouvàmes que le vent soufllait presque aussi fort en bas, qu'en haut. Charles voula\"}"
      ]
     },
     "execution_count": 6,
     "metadata": {},
     "output_type": "execute_result"
    }
   ],
   "source": [
    "data['good'][1]"
   ]
  },
  {
   "cell_type": "code",
   "execution_count": null,
   "metadata": {},
   "outputs": [],
   "source": []
  }
 ],
 "metadata": {
  "kernelspec": {
   "display_name": "fr",
   "language": "python",
   "name": "python3"
  },
  "language_info": {
   "codemirror_mode": {
    "name": "ipython",
    "version": 3
   },
   "file_extension": ".py",
   "mimetype": "text/x-python",
   "name": "python",
   "nbconvert_exporter": "python",
   "pygments_lexer": "ipython3",
   "version": "3.10.8"
  },
  "orig_nbformat": 4
 },
 "nbformat": 4,
 "nbformat_minor": 2
}
